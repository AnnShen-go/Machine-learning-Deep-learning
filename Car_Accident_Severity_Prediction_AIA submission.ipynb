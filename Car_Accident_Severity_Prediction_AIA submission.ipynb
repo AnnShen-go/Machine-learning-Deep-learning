{
  "cells": [
    {
      "cell_type": "code",
      "execution_count": 5,
      "metadata": {
        "id": "n1mbw0yVXS8f"
      },
      "outputs": [],
      "source": [
        "import pandas as pd\n",
        "import numpy as np\n",
        "import matplotlib.pyplot as plt\n",
        "import random\n",
        "import os\n",
        "\n",
        "# # disable GPU\n",
        "# os.environ[\"CUDA_DEVICE_ORDER\"] = \"PCI_BUS_ID\"\n",
        "# os.environ[\"CUDA_VISIBLE_DEVICES\"] = \"\"\n",
        "\n",
        "# # seed those libraries which are included in your code\n",
        "# np.random.seed(17)\n",
        "# random.seed(17)\n",
        "# os.environ['PYTHONHASHSEED']=str(17)"
      ]
    },
    {
      "cell_type": "markdown",
      "metadata": {
        "id": "2WoGcS7PXS80"
      },
      "source": [
        "## 1) 載入資料集"
      ]
    },
    {
      "cell_type": "code",
      "source": [
        "# !gdown --fuzzy 1wwMUr3cgoPsAwV-52dIBAeAlAtddDWFn\n",
        "# !gdown --fuzzy 1YgzbEuYcq6dZGn8FKogGDU-lOJurMyHW\n"
      ],
      "metadata": {
        "id": "hGTKf597JMZ8"
      },
      "execution_count": null,
      "outputs": []
    },
    {
      "cell_type": "code",
      "source": [
        "from google.colab import drive\n",
        "drive.mount('/content/drive')"
      ],
      "metadata": {
        "colab": {
          "base_uri": "https://localhost:8080/"
        },
        "id": "baXDaixW3D_I",
        "outputId": "d989c616-9c9c-4e31-8b6f-64c342d59d7e"
      },
      "execution_count": 7,
      "outputs": [
        {
          "output_type": "stream",
          "name": "stdout",
          "text": [
            "Mounted at /content/drive\n"
          ]
        }
      ]
    },
    {
      "cell_type": "code",
      "execution_count": 8,
      "metadata": {
        "id": "iThdBtGjXS89",
        "colab": {
          "base_uri": "https://localhost:8080/",
          "height": 297
        },
        "outputId": "1c56db40-6f75-42da-d39a-dceb20171c25"
      },
      "outputs": [
        {
          "output_type": "execute_result",
          "data": {
            "text/plain": [
              "           Severity     Start_Lat     Start_Lng       End_Lat       End_Lng  \\\n",
              "count  84928.000000  84928.000000  84928.000000  84928.000000  84928.000000   \n",
              "mean       2.500000     36.924160    -93.267793     36.924345    -93.267262   \n",
              "std        1.118041      5.012491     17.208842      5.012777     17.207988   \n",
              "min        1.000000     24.586250   -124.483021     24.587610   -124.482798   \n",
              "25%        1.750000     33.495210   -111.414025     33.495210   -111.400794   \n",
              "50%        2.500000     37.672920    -86.938541     37.675090    -86.931545   \n",
              "75%        3.250000     40.707489    -78.782070     40.706600    -78.781125   \n",
              "max        4.000000     48.990823    -69.984700     48.991585    -69.984700   \n",
              "\n",
              "       Distance(mi)  Temperature(F)  Wind_Chill(F)   Humidity(%)  \\\n",
              "count  84928.000000    82824.000000   81719.000000  82612.000000   \n",
              "mean       0.722966       65.068289      64.291756     61.261403   \n",
              "std        2.174698       17.379606      18.787425     25.397146   \n",
              "min        0.000000       -8.000000     -29.000000      2.000000   \n",
              "25%        0.000000       53.000000      53.000000     42.000000   \n",
              "50%        0.048000       66.000000      66.000000     64.000000   \n",
              "75%        0.648000       78.000000      78.000000     83.000000   \n",
              "max      112.968000      116.000000     116.000000    100.000000   \n",
              "\n",
              "       Pressure(in)  Visibility(mi)  Wind_Speed(mph)  Precipitation(in)  \\\n",
              "count  83140.000000    82770.000000     81996.000000       80405.000000   \n",
              "mean      29.225585        9.256541         7.864908           0.006536   \n",
              "std        1.203373        2.611186         5.684704           0.043651   \n",
              "min       20.040000        0.000000         0.000000           0.000000   \n",
              "25%       29.070000       10.000000         5.000000           0.000000   \n",
              "50%       29.580000       10.000000         7.000000           0.000000   \n",
              "75%       29.920000       10.000000        12.000000           0.000000   \n",
              "max       38.940000      120.000000       232.000000           1.950000   \n",
              "\n",
              "           Duration  \n",
              "count  84928.000000  \n",
              "mean       1.333398  \n",
              "std       21.980977  \n",
              "min        0.004167  \n",
              "25%        0.020833  \n",
              "50%        0.034699  \n",
              "75%        0.086933  \n",
              "max     1096.707639  "
            ],
            "text/html": [
              "\n",
              "  <div id=\"df-3e4c3d75-a862-49e7-b035-22ec17411845\" class=\"colab-df-container\">\n",
              "    <div>\n",
              "<style scoped>\n",
              "    .dataframe tbody tr th:only-of-type {\n",
              "        vertical-align: middle;\n",
              "    }\n",
              "\n",
              "    .dataframe tbody tr th {\n",
              "        vertical-align: top;\n",
              "    }\n",
              "\n",
              "    .dataframe thead th {\n",
              "        text-align: right;\n",
              "    }\n",
              "</style>\n",
              "<table border=\"1\" class=\"dataframe\">\n",
              "  <thead>\n",
              "    <tr style=\"text-align: right;\">\n",
              "      <th></th>\n",
              "      <th>Severity</th>\n",
              "      <th>Start_Lat</th>\n",
              "      <th>Start_Lng</th>\n",
              "      <th>End_Lat</th>\n",
              "      <th>End_Lng</th>\n",
              "      <th>Distance(mi)</th>\n",
              "      <th>Temperature(F)</th>\n",
              "      <th>Wind_Chill(F)</th>\n",
              "      <th>Humidity(%)</th>\n",
              "      <th>Pressure(in)</th>\n",
              "      <th>Visibility(mi)</th>\n",
              "      <th>Wind_Speed(mph)</th>\n",
              "      <th>Precipitation(in)</th>\n",
              "      <th>Duration</th>\n",
              "    </tr>\n",
              "  </thead>\n",
              "  <tbody>\n",
              "    <tr>\n",
              "      <th>count</th>\n",
              "      <td>84928.000000</td>\n",
              "      <td>84928.000000</td>\n",
              "      <td>84928.000000</td>\n",
              "      <td>84928.000000</td>\n",
              "      <td>84928.000000</td>\n",
              "      <td>84928.000000</td>\n",
              "      <td>82824.000000</td>\n",
              "      <td>81719.000000</td>\n",
              "      <td>82612.000000</td>\n",
              "      <td>83140.000000</td>\n",
              "      <td>82770.000000</td>\n",
              "      <td>81996.000000</td>\n",
              "      <td>80405.000000</td>\n",
              "      <td>84928.000000</td>\n",
              "    </tr>\n",
              "    <tr>\n",
              "      <th>mean</th>\n",
              "      <td>2.500000</td>\n",
              "      <td>36.924160</td>\n",
              "      <td>-93.267793</td>\n",
              "      <td>36.924345</td>\n",
              "      <td>-93.267262</td>\n",
              "      <td>0.722966</td>\n",
              "      <td>65.068289</td>\n",
              "      <td>64.291756</td>\n",
              "      <td>61.261403</td>\n",
              "      <td>29.225585</td>\n",
              "      <td>9.256541</td>\n",
              "      <td>7.864908</td>\n",
              "      <td>0.006536</td>\n",
              "      <td>1.333398</td>\n",
              "    </tr>\n",
              "    <tr>\n",
              "      <th>std</th>\n",
              "      <td>1.118041</td>\n",
              "      <td>5.012491</td>\n",
              "      <td>17.208842</td>\n",
              "      <td>5.012777</td>\n",
              "      <td>17.207988</td>\n",
              "      <td>2.174698</td>\n",
              "      <td>17.379606</td>\n",
              "      <td>18.787425</td>\n",
              "      <td>25.397146</td>\n",
              "      <td>1.203373</td>\n",
              "      <td>2.611186</td>\n",
              "      <td>5.684704</td>\n",
              "      <td>0.043651</td>\n",
              "      <td>21.980977</td>\n",
              "    </tr>\n",
              "    <tr>\n",
              "      <th>min</th>\n",
              "      <td>1.000000</td>\n",
              "      <td>24.586250</td>\n",
              "      <td>-124.483021</td>\n",
              "      <td>24.587610</td>\n",
              "      <td>-124.482798</td>\n",
              "      <td>0.000000</td>\n",
              "      <td>-8.000000</td>\n",
              "      <td>-29.000000</td>\n",
              "      <td>2.000000</td>\n",
              "      <td>20.040000</td>\n",
              "      <td>0.000000</td>\n",
              "      <td>0.000000</td>\n",
              "      <td>0.000000</td>\n",
              "      <td>0.004167</td>\n",
              "    </tr>\n",
              "    <tr>\n",
              "      <th>25%</th>\n",
              "      <td>1.750000</td>\n",
              "      <td>33.495210</td>\n",
              "      <td>-111.414025</td>\n",
              "      <td>33.495210</td>\n",
              "      <td>-111.400794</td>\n",
              "      <td>0.000000</td>\n",
              "      <td>53.000000</td>\n",
              "      <td>53.000000</td>\n",
              "      <td>42.000000</td>\n",
              "      <td>29.070000</td>\n",
              "      <td>10.000000</td>\n",
              "      <td>5.000000</td>\n",
              "      <td>0.000000</td>\n",
              "      <td>0.020833</td>\n",
              "    </tr>\n",
              "    <tr>\n",
              "      <th>50%</th>\n",
              "      <td>2.500000</td>\n",
              "      <td>37.672920</td>\n",
              "      <td>-86.938541</td>\n",
              "      <td>37.675090</td>\n",
              "      <td>-86.931545</td>\n",
              "      <td>0.048000</td>\n",
              "      <td>66.000000</td>\n",
              "      <td>66.000000</td>\n",
              "      <td>64.000000</td>\n",
              "      <td>29.580000</td>\n",
              "      <td>10.000000</td>\n",
              "      <td>7.000000</td>\n",
              "      <td>0.000000</td>\n",
              "      <td>0.034699</td>\n",
              "    </tr>\n",
              "    <tr>\n",
              "      <th>75%</th>\n",
              "      <td>3.250000</td>\n",
              "      <td>40.707489</td>\n",
              "      <td>-78.782070</td>\n",
              "      <td>40.706600</td>\n",
              "      <td>-78.781125</td>\n",
              "      <td>0.648000</td>\n",
              "      <td>78.000000</td>\n",
              "      <td>78.000000</td>\n",
              "      <td>83.000000</td>\n",
              "      <td>29.920000</td>\n",
              "      <td>10.000000</td>\n",
              "      <td>12.000000</td>\n",
              "      <td>0.000000</td>\n",
              "      <td>0.086933</td>\n",
              "    </tr>\n",
              "    <tr>\n",
              "      <th>max</th>\n",
              "      <td>4.000000</td>\n",
              "      <td>48.990823</td>\n",
              "      <td>-69.984700</td>\n",
              "      <td>48.991585</td>\n",
              "      <td>-69.984700</td>\n",
              "      <td>112.968000</td>\n",
              "      <td>116.000000</td>\n",
              "      <td>116.000000</td>\n",
              "      <td>100.000000</td>\n",
              "      <td>38.940000</td>\n",
              "      <td>120.000000</td>\n",
              "      <td>232.000000</td>\n",
              "      <td>1.950000</td>\n",
              "      <td>1096.707639</td>\n",
              "    </tr>\n",
              "  </tbody>\n",
              "</table>\n",
              "</div>\n",
              "    <div class=\"colab-df-buttons\">\n",
              "\n",
              "  <div class=\"colab-df-container\">\n",
              "    <button class=\"colab-df-convert\" onclick=\"convertToInteractive('df-3e4c3d75-a862-49e7-b035-22ec17411845')\"\n",
              "            title=\"Convert this dataframe to an interactive table.\"\n",
              "            style=\"display:none;\">\n",
              "\n",
              "  <svg xmlns=\"http://www.w3.org/2000/svg\" height=\"24px\" viewBox=\"0 -960 960 960\">\n",
              "    <path d=\"M120-120v-720h720v720H120Zm60-500h600v-160H180v160Zm220 220h160v-160H400v160Zm0 220h160v-160H400v160ZM180-400h160v-160H180v160Zm440 0h160v-160H620v160ZM180-180h160v-160H180v160Zm440 0h160v-160H620v160Z\"/>\n",
              "  </svg>\n",
              "    </button>\n",
              "\n",
              "  <style>\n",
              "    .colab-df-container {\n",
              "      display:flex;\n",
              "      gap: 12px;\n",
              "    }\n",
              "\n",
              "    .colab-df-convert {\n",
              "      background-color: #E8F0FE;\n",
              "      border: none;\n",
              "      border-radius: 50%;\n",
              "      cursor: pointer;\n",
              "      display: none;\n",
              "      fill: #1967D2;\n",
              "      height: 32px;\n",
              "      padding: 0 0 0 0;\n",
              "      width: 32px;\n",
              "    }\n",
              "\n",
              "    .colab-df-convert:hover {\n",
              "      background-color: #E2EBFA;\n",
              "      box-shadow: 0px 1px 2px rgba(60, 64, 67, 0.3), 0px 1px 3px 1px rgba(60, 64, 67, 0.15);\n",
              "      fill: #174EA6;\n",
              "    }\n",
              "\n",
              "    .colab-df-buttons div {\n",
              "      margin-bottom: 4px;\n",
              "    }\n",
              "\n",
              "    [theme=dark] .colab-df-convert {\n",
              "      background-color: #3B4455;\n",
              "      fill: #D2E3FC;\n",
              "    }\n",
              "\n",
              "    [theme=dark] .colab-df-convert:hover {\n",
              "      background-color: #434B5C;\n",
              "      box-shadow: 0px 1px 3px 1px rgba(0, 0, 0, 0.15);\n",
              "      filter: drop-shadow(0px 1px 2px rgba(0, 0, 0, 0.3));\n",
              "      fill: #FFFFFF;\n",
              "    }\n",
              "  </style>\n",
              "\n",
              "    <script>\n",
              "      const buttonEl =\n",
              "        document.querySelector('#df-3e4c3d75-a862-49e7-b035-22ec17411845 button.colab-df-convert');\n",
              "      buttonEl.style.display =\n",
              "        google.colab.kernel.accessAllowed ? 'block' : 'none';\n",
              "\n",
              "      async function convertToInteractive(key) {\n",
              "        const element = document.querySelector('#df-3e4c3d75-a862-49e7-b035-22ec17411845');\n",
              "        const dataTable =\n",
              "          await google.colab.kernel.invokeFunction('convertToInteractive',\n",
              "                                                    [key], {});\n",
              "        if (!dataTable) return;\n",
              "\n",
              "        const docLinkHtml = 'Like what you see? Visit the ' +\n",
              "          '<a target=\"_blank\" href=https://colab.research.google.com/notebooks/data_table.ipynb>data table notebook</a>'\n",
              "          + ' to learn more about interactive tables.';\n",
              "        element.innerHTML = '';\n",
              "        dataTable['output_type'] = 'display_data';\n",
              "        await google.colab.output.renderOutput(dataTable, element);\n",
              "        const docLink = document.createElement('div');\n",
              "        docLink.innerHTML = docLinkHtml;\n",
              "        element.appendChild(docLink);\n",
              "      }\n",
              "    </script>\n",
              "  </div>\n",
              "\n",
              "\n",
              "<div id=\"df-5d5e19b7-6536-4136-a430-85281a37d5b8\">\n",
              "  <button class=\"colab-df-quickchart\" onclick=\"quickchart('df-5d5e19b7-6536-4136-a430-85281a37d5b8')\"\n",
              "            title=\"Suggest charts\"\n",
              "            style=\"display:none;\">\n",
              "\n",
              "<svg xmlns=\"http://www.w3.org/2000/svg\" height=\"24px\"viewBox=\"0 0 24 24\"\n",
              "     width=\"24px\">\n",
              "    <g>\n",
              "        <path d=\"M19 3H5c-1.1 0-2 .9-2 2v14c0 1.1.9 2 2 2h14c1.1 0 2-.9 2-2V5c0-1.1-.9-2-2-2zM9 17H7v-7h2v7zm4 0h-2V7h2v10zm4 0h-2v-4h2v4z\"/>\n",
              "    </g>\n",
              "</svg>\n",
              "  </button>\n",
              "\n",
              "<style>\n",
              "  .colab-df-quickchart {\n",
              "      --bg-color: #E8F0FE;\n",
              "      --fill-color: #1967D2;\n",
              "      --hover-bg-color: #E2EBFA;\n",
              "      --hover-fill-color: #174EA6;\n",
              "      --disabled-fill-color: #AAA;\n",
              "      --disabled-bg-color: #DDD;\n",
              "  }\n",
              "\n",
              "  [theme=dark] .colab-df-quickchart {\n",
              "      --bg-color: #3B4455;\n",
              "      --fill-color: #D2E3FC;\n",
              "      --hover-bg-color: #434B5C;\n",
              "      --hover-fill-color: #FFFFFF;\n",
              "      --disabled-bg-color: #3B4455;\n",
              "      --disabled-fill-color: #666;\n",
              "  }\n",
              "\n",
              "  .colab-df-quickchart {\n",
              "    background-color: var(--bg-color);\n",
              "    border: none;\n",
              "    border-radius: 50%;\n",
              "    cursor: pointer;\n",
              "    display: none;\n",
              "    fill: var(--fill-color);\n",
              "    height: 32px;\n",
              "    padding: 0;\n",
              "    width: 32px;\n",
              "  }\n",
              "\n",
              "  .colab-df-quickchart:hover {\n",
              "    background-color: var(--hover-bg-color);\n",
              "    box-shadow: 0 1px 2px rgba(60, 64, 67, 0.3), 0 1px 3px 1px rgba(60, 64, 67, 0.15);\n",
              "    fill: var(--button-hover-fill-color);\n",
              "  }\n",
              "\n",
              "  .colab-df-quickchart-complete:disabled,\n",
              "  .colab-df-quickchart-complete:disabled:hover {\n",
              "    background-color: var(--disabled-bg-color);\n",
              "    fill: var(--disabled-fill-color);\n",
              "    box-shadow: none;\n",
              "  }\n",
              "\n",
              "  .colab-df-spinner {\n",
              "    border: 2px solid var(--fill-color);\n",
              "    border-color: transparent;\n",
              "    border-bottom-color: var(--fill-color);\n",
              "    animation:\n",
              "      spin 1s steps(1) infinite;\n",
              "  }\n",
              "\n",
              "  @keyframes spin {\n",
              "    0% {\n",
              "      border-color: transparent;\n",
              "      border-bottom-color: var(--fill-color);\n",
              "      border-left-color: var(--fill-color);\n",
              "    }\n",
              "    20% {\n",
              "      border-color: transparent;\n",
              "      border-left-color: var(--fill-color);\n",
              "      border-top-color: var(--fill-color);\n",
              "    }\n",
              "    30% {\n",
              "      border-color: transparent;\n",
              "      border-left-color: var(--fill-color);\n",
              "      border-top-color: var(--fill-color);\n",
              "      border-right-color: var(--fill-color);\n",
              "    }\n",
              "    40% {\n",
              "      border-color: transparent;\n",
              "      border-right-color: var(--fill-color);\n",
              "      border-top-color: var(--fill-color);\n",
              "    }\n",
              "    60% {\n",
              "      border-color: transparent;\n",
              "      border-right-color: var(--fill-color);\n",
              "    }\n",
              "    80% {\n",
              "      border-color: transparent;\n",
              "      border-right-color: var(--fill-color);\n",
              "      border-bottom-color: var(--fill-color);\n",
              "    }\n",
              "    90% {\n",
              "      border-color: transparent;\n",
              "      border-bottom-color: var(--fill-color);\n",
              "    }\n",
              "  }\n",
              "</style>\n",
              "\n",
              "  <script>\n",
              "    async function quickchart(key) {\n",
              "      const quickchartButtonEl =\n",
              "        document.querySelector('#' + key + ' button');\n",
              "      quickchartButtonEl.disabled = true;  // To prevent multiple clicks.\n",
              "      quickchartButtonEl.classList.add('colab-df-spinner');\n",
              "      try {\n",
              "        const charts = await google.colab.kernel.invokeFunction(\n",
              "            'suggestCharts', [key], {});\n",
              "      } catch (error) {\n",
              "        console.error('Error during call to suggestCharts:', error);\n",
              "      }\n",
              "      quickchartButtonEl.classList.remove('colab-df-spinner');\n",
              "      quickchartButtonEl.classList.add('colab-df-quickchart-complete');\n",
              "    }\n",
              "    (() => {\n",
              "      let quickchartButtonEl =\n",
              "        document.querySelector('#df-5d5e19b7-6536-4136-a430-85281a37d5b8 button');\n",
              "      quickchartButtonEl.style.display =\n",
              "        google.colab.kernel.accessAllowed ? 'block' : 'none';\n",
              "    })();\n",
              "  </script>\n",
              "</div>\n",
              "\n",
              "    </div>\n",
              "  </div>\n"
            ],
            "application/vnd.google.colaboratory.intrinsic+json": {
              "type": "dataframe",
              "summary": "{\n  \"name\": \"df_train\",\n  \"rows\": 8,\n  \"fields\": [\n    {\n      \"column\": \"Severity\",\n      \"properties\": {\n        \"dtype\": \"number\",\n        \"std\": 30025.768289596348,\n        \"min\": 1.0,\n        \"max\": 84928.0,\n        \"num_unique_values\": 7,\n        \"samples\": [\n          84928.0,\n          2.5,\n          3.25\n        ],\n        \"semantic_type\": \"\",\n        \"description\": \"\"\n      }\n    },\n    {\n      \"column\": \"Start_Lat\",\n      \"properties\": {\n        \"dtype\": \"number\",\n        \"std\": 30015.10032728765,\n        \"min\": 5.012491097146831,\n        \"max\": 84928.0,\n        \"num_unique_values\": 8,\n        \"samples\": [\n          36.92416042098731,\n          37.672920000000005,\n          84928.0\n        ],\n        \"semantic_type\": \"\",\n        \"description\": \"\"\n      }\n    },\n    {\n      \"column\": \"Start_Lng\",\n      \"properties\": {\n        \"dtype\": \"number\",\n        \"std\": 30054.27365902669,\n        \"min\": -124.483021,\n        \"max\": 84928.0,\n        \"num_unique_values\": 8,\n        \"samples\": [\n          -93.26779349219316,\n          -86.9385415,\n          84928.0\n        ],\n        \"semantic_type\": \"\",\n        \"description\": \"\"\n      }\n    },\n    {\n      \"column\": \"End_Lat\",\n      \"properties\": {\n        \"dtype\": \"number\",\n        \"std\": 30015.100131660074,\n        \"min\": 5.012777123271603,\n        \"max\": 84928.0,\n        \"num_unique_values\": 8,\n        \"samples\": [\n          36.924344505706124,\n          37.67509,\n          84928.0\n        ],\n        \"semantic_type\": \"\",\n        \"description\": \"\"\n      }\n    },\n    {\n      \"column\": \"End_Lng\",\n      \"properties\": {\n        \"dtype\": \"number\",\n        \"std\": 30054.272591854835,\n        \"min\": -124.482798,\n        \"max\": 84928.0,\n        \"num_unique_values\": 8,\n        \"samples\": [\n          -93.26726215580233,\n          -86.931545,\n          84928.0\n        ],\n        \"semantic_type\": \"\",\n        \"description\": \"\"\n      }\n    },\n    {\n      \"column\": \"Distance(mi)\",\n      \"properties\": {\n        \"dtype\": \"number\",\n        \"std\": 30020.72086280395,\n        \"min\": 0.0,\n        \"max\": 84928.0,\n        \"num_unique_values\": 7,\n        \"samples\": [\n          84928.0,\n          0.7229662184438582,\n          0.648\n        ],\n        \"semantic_type\": \"\",\n        \"description\": \"\"\n      }\n    },\n    {\n      \"column\": \"Temperature(F)\",\n      \"properties\": {\n        \"dtype\": \"number\",\n        \"std\": 29263.161015480287,\n        \"min\": -8.0,\n        \"max\": 82824.0,\n        \"num_unique_values\": 8,\n        \"samples\": [\n          65.0682893847194,\n          66.0,\n          82824.0\n        ],\n        \"semantic_type\": \"\",\n        \"description\": \"\"\n      }\n    },\n    {\n      \"column\": \"Wind_Chill(F)\",\n      \"properties\": {\n        \"dtype\": \"number\",\n        \"std\": 28873.520850126668,\n        \"min\": -29.0,\n        \"max\": 81719.0,\n        \"num_unique_values\": 8,\n        \"samples\": [\n          64.29175589520185,\n          66.0,\n          81719.0\n        ],\n        \"semantic_type\": \"\",\n        \"description\": \"\"\n      }\n    },\n    {\n      \"column\": \"Humidity(%)\",\n      \"properties\": {\n        \"dtype\": \"number\",\n        \"std\": 29188.694647859305,\n        \"min\": 2.0,\n        \"max\": 82612.0,\n        \"num_unique_values\": 8,\n        \"samples\": [\n          61.261402701786665,\n          64.0,\n          82612.0\n        ],\n        \"semantic_type\": \"\",\n        \"description\": \"\"\n      }\n    },\n    {\n      \"column\": \"Pressure(in)\",\n      \"properties\": {\n        \"dtype\": \"number\",\n        \"std\": 29385.441698129067,\n        \"min\": 1.203372895863926,\n        \"max\": 83140.0,\n        \"num_unique_values\": 8,\n        \"samples\": [\n          29.225584676449362,\n          29.58,\n          83140.0\n        ],\n        \"semantic_type\": \"\",\n        \"description\": \"\"\n      }\n    },\n    {\n      \"column\": \"Visibility(mi)\",\n      \"properties\": {\n        \"dtype\": \"number\",\n        \"std\": 29255.465562413738,\n        \"min\": 0.0,\n        \"max\": 82770.0,\n        \"num_unique_values\": 6,\n        \"samples\": [\n          82770.0,\n          9.25654077564335,\n          120.0\n        ],\n        \"semantic_type\": \"\",\n        \"description\": \"\"\n      }\n    },\n    {\n      \"column\": \"Wind_Speed(mph)\",\n      \"properties\": {\n        \"dtype\": \"number\",\n        \"std\": 28976.45736642619,\n        \"min\": 0.0,\n        \"max\": 81996.0,\n        \"num_unique_values\": 8,\n        \"samples\": [\n          7.864908044294844,\n          7.0,\n          81996.0\n        ],\n        \"semantic_type\": \"\",\n        \"description\": \"\"\n      }\n    },\n    {\n      \"column\": \"Precipitation(in)\",\n      \"properties\": {\n        \"dtype\": \"number\",\n        \"std\": 28427.35935407727,\n        \"min\": 0.0,\n        \"max\": 80405.0,\n        \"num_unique_values\": 5,\n        \"samples\": [\n          0.006536409427274424,\n          1.95,\n          0.04365056620504384\n        ],\n        \"semantic_type\": \"\",\n        \"description\": \"\"\n      }\n    },\n    {\n      \"column\": \"Duration\",\n      \"properties\": {\n        \"dtype\": \"number\",\n        \"std\": 29972.445728623425,\n        \"min\": 0.004166667,\n        \"max\": 84928.0,\n        \"num_unique_values\": 8,\n        \"samples\": [\n          1.333397666984116,\n          0.034699074,\n          84928.0\n        ],\n        \"semantic_type\": \"\",\n        \"description\": \"\"\n      }\n    }\n  ]\n}"
            }
          },
          "metadata": {},
          "execution_count": 8
        }
      ],
      "source": [
        "df_train = pd.read_csv('/content/drive/MyDrive/AIA/Midterms/1st/Submission/Train_r.csv')\n",
        "#df_train_df = pd.read_csv('/content/drive/MyDrive/AIA/DL/Kaggle/Train.csv')\n",
        "#df_test_df = pd.read_csv('/content/drive/MyDrive/AIA/DL/Kaggle/Test.csv')\n",
        "\n",
        "df_train = df_train.drop(labels=['ID'],axis=1) # 移除 Id\n",
        "df_train.describe()"
      ]
    },
    {
      "cell_type": "code",
      "source": [
        "df_train.head()"
      ],
      "metadata": {
        "id": "9Wt8WF1Q7YsE",
        "colab": {
          "base_uri": "https://localhost:8080/",
          "height": 474
        },
        "outputId": "f01824eb-1bac-4038-b8b3-f616c760fae7"
      },
      "execution_count": 9,
      "outputs": [
        {
          "output_type": "execute_result",
          "data": {
            "text/plain": [
              "    Source  Severity  Start_Lat   Start_Lng    End_Lat     End_Lng  \\\n",
              "0  Source1         2  33.944331  -84.509958  33.937641  -84.499248   \n",
              "1  Source1         3  42.428670  -87.903940  42.428670  -87.903940   \n",
              "2  Source1         1  40.897740  -73.797030  40.897740  -73.797030   \n",
              "3  Source1         4  35.656830 -118.440450  35.656480 -118.444170   \n",
              "4  Source1         3  42.428360  -83.184290  42.428360  -83.184290   \n",
              "\n",
              "   Distance(mi)                                        Description  \\\n",
              "0         0.768  Incident on I-75 SB near GA-120 Expect long de...   \n",
              "1         0.000            At CR-22/CR-W27/N Delany Rd - Accident.   \n",
              "2         0.000              At Hutchinson Pky/Exit 14 - Accident.   \n",
              "3         0.210  Closed at Lake Isabella Blvd - Road closed due...   \n",
              "4         0.000                           At Meyers Rd - Accident.   \n",
              "\n",
              "               Street           City  ... Station   Stop Traffic_Calming  \\\n",
              "0                I-75       Marietta  ...   False  False           False   \n",
              "1      W Wadsworth Rd      Wadsworth  ...   False  False           False   \n",
              "2  New England Trwy S   New Rochelle  ...   False  False           False   \n",
              "3    Yankee Canyon Dr  Lake Isabella  ...   False  False           False   \n",
              "4  John C Lodge Fwy S        Detroit  ...   False  False           False   \n",
              "\n",
              "  Traffic_Signal Turning_Loop Sunrise_Sunset Civil_Twilight  \\\n",
              "0          False        False            Day            Day   \n",
              "1           True        False            Day            Day   \n",
              "2          False        False            Day            Day   \n",
              "3          False        False          Night          Night   \n",
              "4          False        False            Day            Day   \n",
              "\n",
              "   Nautical_Twilight  Astronomical_Twilight  Duration  \n",
              "0                Day                    Day  0.065278  \n",
              "1                Day                    Day  0.020833  \n",
              "2                Day                    Day  0.020833  \n",
              "3              Night                  Night  0.019757  \n",
              "4                Day                    Day  0.020833  \n",
              "\n",
              "[5 rows x 44 columns]"
            ],
            "text/html": [
              "\n",
              "  <div id=\"df-dc8b9766-a29a-4522-9307-4887ad08e851\" class=\"colab-df-container\">\n",
              "    <div>\n",
              "<style scoped>\n",
              "    .dataframe tbody tr th:only-of-type {\n",
              "        vertical-align: middle;\n",
              "    }\n",
              "\n",
              "    .dataframe tbody tr th {\n",
              "        vertical-align: top;\n",
              "    }\n",
              "\n",
              "    .dataframe thead th {\n",
              "        text-align: right;\n",
              "    }\n",
              "</style>\n",
              "<table border=\"1\" class=\"dataframe\">\n",
              "  <thead>\n",
              "    <tr style=\"text-align: right;\">\n",
              "      <th></th>\n",
              "      <th>Source</th>\n",
              "      <th>Severity</th>\n",
              "      <th>Start_Lat</th>\n",
              "      <th>Start_Lng</th>\n",
              "      <th>End_Lat</th>\n",
              "      <th>End_Lng</th>\n",
              "      <th>Distance(mi)</th>\n",
              "      <th>Description</th>\n",
              "      <th>Street</th>\n",
              "      <th>City</th>\n",
              "      <th>...</th>\n",
              "      <th>Station</th>\n",
              "      <th>Stop</th>\n",
              "      <th>Traffic_Calming</th>\n",
              "      <th>Traffic_Signal</th>\n",
              "      <th>Turning_Loop</th>\n",
              "      <th>Sunrise_Sunset</th>\n",
              "      <th>Civil_Twilight</th>\n",
              "      <th>Nautical_Twilight</th>\n",
              "      <th>Astronomical_Twilight</th>\n",
              "      <th>Duration</th>\n",
              "    </tr>\n",
              "  </thead>\n",
              "  <tbody>\n",
              "    <tr>\n",
              "      <th>0</th>\n",
              "      <td>Source1</td>\n",
              "      <td>2</td>\n",
              "      <td>33.944331</td>\n",
              "      <td>-84.509958</td>\n",
              "      <td>33.937641</td>\n",
              "      <td>-84.499248</td>\n",
              "      <td>0.768</td>\n",
              "      <td>Incident on I-75 SB near GA-120 Expect long de...</td>\n",
              "      <td>I-75</td>\n",
              "      <td>Marietta</td>\n",
              "      <td>...</td>\n",
              "      <td>False</td>\n",
              "      <td>False</td>\n",
              "      <td>False</td>\n",
              "      <td>False</td>\n",
              "      <td>False</td>\n",
              "      <td>Day</td>\n",
              "      <td>Day</td>\n",
              "      <td>Day</td>\n",
              "      <td>Day</td>\n",
              "      <td>0.065278</td>\n",
              "    </tr>\n",
              "    <tr>\n",
              "      <th>1</th>\n",
              "      <td>Source1</td>\n",
              "      <td>3</td>\n",
              "      <td>42.428670</td>\n",
              "      <td>-87.903940</td>\n",
              "      <td>42.428670</td>\n",
              "      <td>-87.903940</td>\n",
              "      <td>0.000</td>\n",
              "      <td>At CR-22/CR-W27/N Delany Rd - Accident.</td>\n",
              "      <td>W Wadsworth Rd</td>\n",
              "      <td>Wadsworth</td>\n",
              "      <td>...</td>\n",
              "      <td>False</td>\n",
              "      <td>False</td>\n",
              "      <td>False</td>\n",
              "      <td>True</td>\n",
              "      <td>False</td>\n",
              "      <td>Day</td>\n",
              "      <td>Day</td>\n",
              "      <td>Day</td>\n",
              "      <td>Day</td>\n",
              "      <td>0.020833</td>\n",
              "    </tr>\n",
              "    <tr>\n",
              "      <th>2</th>\n",
              "      <td>Source1</td>\n",
              "      <td>1</td>\n",
              "      <td>40.897740</td>\n",
              "      <td>-73.797030</td>\n",
              "      <td>40.897740</td>\n",
              "      <td>-73.797030</td>\n",
              "      <td>0.000</td>\n",
              "      <td>At Hutchinson Pky/Exit 14 - Accident.</td>\n",
              "      <td>New England Trwy S</td>\n",
              "      <td>New Rochelle</td>\n",
              "      <td>...</td>\n",
              "      <td>False</td>\n",
              "      <td>False</td>\n",
              "      <td>False</td>\n",
              "      <td>False</td>\n",
              "      <td>False</td>\n",
              "      <td>Day</td>\n",
              "      <td>Day</td>\n",
              "      <td>Day</td>\n",
              "      <td>Day</td>\n",
              "      <td>0.020833</td>\n",
              "    </tr>\n",
              "    <tr>\n",
              "      <th>3</th>\n",
              "      <td>Source1</td>\n",
              "      <td>4</td>\n",
              "      <td>35.656830</td>\n",
              "      <td>-118.440450</td>\n",
              "      <td>35.656480</td>\n",
              "      <td>-118.444170</td>\n",
              "      <td>0.210</td>\n",
              "      <td>Closed at Lake Isabella Blvd - Road closed due...</td>\n",
              "      <td>Yankee Canyon Dr</td>\n",
              "      <td>Lake Isabella</td>\n",
              "      <td>...</td>\n",
              "      <td>False</td>\n",
              "      <td>False</td>\n",
              "      <td>False</td>\n",
              "      <td>False</td>\n",
              "      <td>False</td>\n",
              "      <td>Night</td>\n",
              "      <td>Night</td>\n",
              "      <td>Night</td>\n",
              "      <td>Night</td>\n",
              "      <td>0.019757</td>\n",
              "    </tr>\n",
              "    <tr>\n",
              "      <th>4</th>\n",
              "      <td>Source1</td>\n",
              "      <td>3</td>\n",
              "      <td>42.428360</td>\n",
              "      <td>-83.184290</td>\n",
              "      <td>42.428360</td>\n",
              "      <td>-83.184290</td>\n",
              "      <td>0.000</td>\n",
              "      <td>At Meyers Rd - Accident.</td>\n",
              "      <td>John C Lodge Fwy S</td>\n",
              "      <td>Detroit</td>\n",
              "      <td>...</td>\n",
              "      <td>False</td>\n",
              "      <td>False</td>\n",
              "      <td>False</td>\n",
              "      <td>False</td>\n",
              "      <td>False</td>\n",
              "      <td>Day</td>\n",
              "      <td>Day</td>\n",
              "      <td>Day</td>\n",
              "      <td>Day</td>\n",
              "      <td>0.020833</td>\n",
              "    </tr>\n",
              "  </tbody>\n",
              "</table>\n",
              "<p>5 rows × 44 columns</p>\n",
              "</div>\n",
              "    <div class=\"colab-df-buttons\">\n",
              "\n",
              "  <div class=\"colab-df-container\">\n",
              "    <button class=\"colab-df-convert\" onclick=\"convertToInteractive('df-dc8b9766-a29a-4522-9307-4887ad08e851')\"\n",
              "            title=\"Convert this dataframe to an interactive table.\"\n",
              "            style=\"display:none;\">\n",
              "\n",
              "  <svg xmlns=\"http://www.w3.org/2000/svg\" height=\"24px\" viewBox=\"0 -960 960 960\">\n",
              "    <path d=\"M120-120v-720h720v720H120Zm60-500h600v-160H180v160Zm220 220h160v-160H400v160Zm0 220h160v-160H400v160ZM180-400h160v-160H180v160Zm440 0h160v-160H620v160ZM180-180h160v-160H180v160Zm440 0h160v-160H620v160Z\"/>\n",
              "  </svg>\n",
              "    </button>\n",
              "\n",
              "  <style>\n",
              "    .colab-df-container {\n",
              "      display:flex;\n",
              "      gap: 12px;\n",
              "    }\n",
              "\n",
              "    .colab-df-convert {\n",
              "      background-color: #E8F0FE;\n",
              "      border: none;\n",
              "      border-radius: 50%;\n",
              "      cursor: pointer;\n",
              "      display: none;\n",
              "      fill: #1967D2;\n",
              "      height: 32px;\n",
              "      padding: 0 0 0 0;\n",
              "      width: 32px;\n",
              "    }\n",
              "\n",
              "    .colab-df-convert:hover {\n",
              "      background-color: #E2EBFA;\n",
              "      box-shadow: 0px 1px 2px rgba(60, 64, 67, 0.3), 0px 1px 3px 1px rgba(60, 64, 67, 0.15);\n",
              "      fill: #174EA6;\n",
              "    }\n",
              "\n",
              "    .colab-df-buttons div {\n",
              "      margin-bottom: 4px;\n",
              "    }\n",
              "\n",
              "    [theme=dark] .colab-df-convert {\n",
              "      background-color: #3B4455;\n",
              "      fill: #D2E3FC;\n",
              "    }\n",
              "\n",
              "    [theme=dark] .colab-df-convert:hover {\n",
              "      background-color: #434B5C;\n",
              "      box-shadow: 0px 1px 3px 1px rgba(0, 0, 0, 0.15);\n",
              "      filter: drop-shadow(0px 1px 2px rgba(0, 0, 0, 0.3));\n",
              "      fill: #FFFFFF;\n",
              "    }\n",
              "  </style>\n",
              "\n",
              "    <script>\n",
              "      const buttonEl =\n",
              "        document.querySelector('#df-dc8b9766-a29a-4522-9307-4887ad08e851 button.colab-df-convert');\n",
              "      buttonEl.style.display =\n",
              "        google.colab.kernel.accessAllowed ? 'block' : 'none';\n",
              "\n",
              "      async function convertToInteractive(key) {\n",
              "        const element = document.querySelector('#df-dc8b9766-a29a-4522-9307-4887ad08e851');\n",
              "        const dataTable =\n",
              "          await google.colab.kernel.invokeFunction('convertToInteractive',\n",
              "                                                    [key], {});\n",
              "        if (!dataTable) return;\n",
              "\n",
              "        const docLinkHtml = 'Like what you see? Visit the ' +\n",
              "          '<a target=\"_blank\" href=https://colab.research.google.com/notebooks/data_table.ipynb>data table notebook</a>'\n",
              "          + ' to learn more about interactive tables.';\n",
              "        element.innerHTML = '';\n",
              "        dataTable['output_type'] = 'display_data';\n",
              "        await google.colab.output.renderOutput(dataTable, element);\n",
              "        const docLink = document.createElement('div');\n",
              "        docLink.innerHTML = docLinkHtml;\n",
              "        element.appendChild(docLink);\n",
              "      }\n",
              "    </script>\n",
              "  </div>\n",
              "\n",
              "\n",
              "<div id=\"df-f97c8eb3-b3ab-4e4d-a1ae-94bcda93dec4\">\n",
              "  <button class=\"colab-df-quickchart\" onclick=\"quickchart('df-f97c8eb3-b3ab-4e4d-a1ae-94bcda93dec4')\"\n",
              "            title=\"Suggest charts\"\n",
              "            style=\"display:none;\">\n",
              "\n",
              "<svg xmlns=\"http://www.w3.org/2000/svg\" height=\"24px\"viewBox=\"0 0 24 24\"\n",
              "     width=\"24px\">\n",
              "    <g>\n",
              "        <path d=\"M19 3H5c-1.1 0-2 .9-2 2v14c0 1.1.9 2 2 2h14c1.1 0 2-.9 2-2V5c0-1.1-.9-2-2-2zM9 17H7v-7h2v7zm4 0h-2V7h2v10zm4 0h-2v-4h2v4z\"/>\n",
              "    </g>\n",
              "</svg>\n",
              "  </button>\n",
              "\n",
              "<style>\n",
              "  .colab-df-quickchart {\n",
              "      --bg-color: #E8F0FE;\n",
              "      --fill-color: #1967D2;\n",
              "      --hover-bg-color: #E2EBFA;\n",
              "      --hover-fill-color: #174EA6;\n",
              "      --disabled-fill-color: #AAA;\n",
              "      --disabled-bg-color: #DDD;\n",
              "  }\n",
              "\n",
              "  [theme=dark] .colab-df-quickchart {\n",
              "      --bg-color: #3B4455;\n",
              "      --fill-color: #D2E3FC;\n",
              "      --hover-bg-color: #434B5C;\n",
              "      --hover-fill-color: #FFFFFF;\n",
              "      --disabled-bg-color: #3B4455;\n",
              "      --disabled-fill-color: #666;\n",
              "  }\n",
              "\n",
              "  .colab-df-quickchart {\n",
              "    background-color: var(--bg-color);\n",
              "    border: none;\n",
              "    border-radius: 50%;\n",
              "    cursor: pointer;\n",
              "    display: none;\n",
              "    fill: var(--fill-color);\n",
              "    height: 32px;\n",
              "    padding: 0;\n",
              "    width: 32px;\n",
              "  }\n",
              "\n",
              "  .colab-df-quickchart:hover {\n",
              "    background-color: var(--hover-bg-color);\n",
              "    box-shadow: 0 1px 2px rgba(60, 64, 67, 0.3), 0 1px 3px 1px rgba(60, 64, 67, 0.15);\n",
              "    fill: var(--button-hover-fill-color);\n",
              "  }\n",
              "\n",
              "  .colab-df-quickchart-complete:disabled,\n",
              "  .colab-df-quickchart-complete:disabled:hover {\n",
              "    background-color: var(--disabled-bg-color);\n",
              "    fill: var(--disabled-fill-color);\n",
              "    box-shadow: none;\n",
              "  }\n",
              "\n",
              "  .colab-df-spinner {\n",
              "    border: 2px solid var(--fill-color);\n",
              "    border-color: transparent;\n",
              "    border-bottom-color: var(--fill-color);\n",
              "    animation:\n",
              "      spin 1s steps(1) infinite;\n",
              "  }\n",
              "\n",
              "  @keyframes spin {\n",
              "    0% {\n",
              "      border-color: transparent;\n",
              "      border-bottom-color: var(--fill-color);\n",
              "      border-left-color: var(--fill-color);\n",
              "    }\n",
              "    20% {\n",
              "      border-color: transparent;\n",
              "      border-left-color: var(--fill-color);\n",
              "      border-top-color: var(--fill-color);\n",
              "    }\n",
              "    30% {\n",
              "      border-color: transparent;\n",
              "      border-left-color: var(--fill-color);\n",
              "      border-top-color: var(--fill-color);\n",
              "      border-right-color: var(--fill-color);\n",
              "    }\n",
              "    40% {\n",
              "      border-color: transparent;\n",
              "      border-right-color: var(--fill-color);\n",
              "      border-top-color: var(--fill-color);\n",
              "    }\n",
              "    60% {\n",
              "      border-color: transparent;\n",
              "      border-right-color: var(--fill-color);\n",
              "    }\n",
              "    80% {\n",
              "      border-color: transparent;\n",
              "      border-right-color: var(--fill-color);\n",
              "      border-bottom-color: var(--fill-color);\n",
              "    }\n",
              "    90% {\n",
              "      border-color: transparent;\n",
              "      border-bottom-color: var(--fill-color);\n",
              "    }\n",
              "  }\n",
              "</style>\n",
              "\n",
              "  <script>\n",
              "    async function quickchart(key) {\n",
              "      const quickchartButtonEl =\n",
              "        document.querySelector('#' + key + ' button');\n",
              "      quickchartButtonEl.disabled = true;  // To prevent multiple clicks.\n",
              "      quickchartButtonEl.classList.add('colab-df-spinner');\n",
              "      try {\n",
              "        const charts = await google.colab.kernel.invokeFunction(\n",
              "            'suggestCharts', [key], {});\n",
              "      } catch (error) {\n",
              "        console.error('Error during call to suggestCharts:', error);\n",
              "      }\n",
              "      quickchartButtonEl.classList.remove('colab-df-spinner');\n",
              "      quickchartButtonEl.classList.add('colab-df-quickchart-complete');\n",
              "    }\n",
              "    (() => {\n",
              "      let quickchartButtonEl =\n",
              "        document.querySelector('#df-f97c8eb3-b3ab-4e4d-a1ae-94bcda93dec4 button');\n",
              "      quickchartButtonEl.style.display =\n",
              "        google.colab.kernel.accessAllowed ? 'block' : 'none';\n",
              "    })();\n",
              "  </script>\n",
              "</div>\n",
              "\n",
              "    </div>\n",
              "  </div>\n"
            ],
            "application/vnd.google.colaboratory.intrinsic+json": {
              "type": "dataframe",
              "variable_name": "df_train"
            }
          },
          "metadata": {},
          "execution_count": 9
        }
      ]
    },
    {
      "cell_type": "markdown",
      "source": [
        "## 2) 檢查缺失值"
      ],
      "metadata": {
        "id": "yDW3TKp87wRn"
      }
    },
    {
      "cell_type": "code",
      "source": [
        "# checked missing data\n",
        "print(\"Before data clean(NAN mount):\", len(df_train[df_train.isna().any(axis=1)]))"
      ],
      "metadata": {
        "colab": {
          "base_uri": "https://localhost:8080/"
        },
        "id": "V_vCP1gaPFDU",
        "outputId": "576a1d88-409a-4c88-b7e4-fdc4696324ba"
      },
      "execution_count": 10,
      "outputs": [
        {
          "output_type": "stream",
          "name": "stdout",
          "text": [
            "Before data clean(NAN mount): 6599\n"
          ]
        }
      ]
    },
    {
      "cell_type": "code",
      "source": [
        "df_train=df_train.dropna()"
      ],
      "metadata": {
        "id": "tdhKiZ51kEkU"
      },
      "execution_count": 11,
      "outputs": []
    },
    {
      "cell_type": "code",
      "source": [
        "unique_col = []\n",
        "for i in df_train.columns:\n",
        "    if np.unique(df_train[i]).shape[0]==1:\n",
        "        unique_col.append(i)"
      ],
      "metadata": {
        "id": "QDDo-qGra-q7"
      },
      "execution_count": 12,
      "outputs": []
    },
    {
      "cell_type": "code",
      "source": [
        "unique_col"
      ],
      "metadata": {
        "colab": {
          "base_uri": "https://localhost:8080/"
        },
        "id": "Upbj3NHUbJ3O",
        "outputId": "5acc4f85-b620-4d5c-d4a4-1e0c5e309d3e"
      },
      "execution_count": 13,
      "outputs": [
        {
          "output_type": "execute_result",
          "data": {
            "text/plain": [
              "['Source', 'Country', 'Turning_Loop']"
            ]
          },
          "metadata": {},
          "execution_count": 13
        }
      ]
    },
    {
      "cell_type": "code",
      "source": [
        "# df_train.describe()[unique_col]"
      ],
      "metadata": {
        "id": "GMklGMi5bNB3"
      },
      "execution_count": null,
      "outputs": []
    },
    {
      "cell_type": "code",
      "source": [
        "df_train = df_train.drop(unique_col, axis=1)"
      ],
      "metadata": {
        "id": "c50Chl1qbRrC"
      },
      "execution_count": 14,
      "outputs": []
    },
    {
      "cell_type": "code",
      "source": [
        "df_train.shape"
      ],
      "metadata": {
        "colab": {
          "base_uri": "https://localhost:8080/"
        },
        "id": "SPbqvNC4bVvk",
        "outputId": "94abb7d0-a32e-4735-c11f-1092e13e7d4a"
      },
      "execution_count": 15,
      "outputs": [
        {
          "output_type": "execute_result",
          "data": {
            "text/plain": [
              "(78329, 41)"
            ]
          },
          "metadata": {},
          "execution_count": 15
        }
      ]
    },
    {
      "cell_type": "markdown",
      "metadata": {
        "id": "-LKVzBIbXS95"
      },
      "source": [
        "## 3) 資料前處理\n",
        "\n",
        "#### **特徵標準化**\n",
        "通常有兩種標準化的方法：\n",
        "- min max normalization：\n",
        "    - 會將特徵數據按比例縮放到 0 到 1 的區間，（或是 -1 到 1）。\n",
        "- standard deviation normalization：\n",
        "    - 會將所有特徵數據縮放成平均為 0、平方差為 1。\n",
        "    \n",
        "#### **特徵組合**\n",
        "特徵需要適當地增加和減少，以提升精確度並減少計算時間。\n",
        "- 增加特徵：特徵組合 (Feature Combination)、群聚編碼 (GroupBy Encoding)、產生合成樣本 (Oversampling)\n",
        "- 減少特徵：特徵篩選 (Feature Selection)、剔除一些樣本 (Undersampling)"
      ]
    },
    {
      "cell_type": "code",
      "execution_count": 16,
      "metadata": {
        "id": "8ey4l-nwXS9_"
      },
      "outputs": [],
      "source": [
        "from sklearn.preprocessing import StandardScaler\n",
        "from sklearn.preprocessing import MinMaxScaler\n",
        "from sklearn.preprocessing import StandardScaler, OneHotEncoder\n",
        "from sklearn.compose import ColumnTransformer\n",
        "from sklearn.model_selection import train_test_split\n",
        "import numpy as np\n",
        "import matplotlib.pyplot as plt\n",
        "from tensorflow.keras.utils import to_categorical\n",
        "import pandas as pd\n",
        "from sklearn.compose import ColumnTransformer\n",
        "from sklearn.preprocessing import StandardScaler, OneHotEncoder"
      ]
    },
    {
      "cell_type": "code",
      "source": [
        "df_train.info()"
      ],
      "metadata": {
        "id": "5nfAQ7A7-pGy",
        "colab": {
          "base_uri": "https://localhost:8080/"
        },
        "outputId": "d3dc2063-814f-47d7-c0c1-5b2f4f395254"
      },
      "execution_count": 17,
      "outputs": [
        {
          "output_type": "stream",
          "name": "stdout",
          "text": [
            "<class 'pandas.core.frame.DataFrame'>\n",
            "Index: 78329 entries, 0 to 84927\n",
            "Data columns (total 41 columns):\n",
            " #   Column                 Non-Null Count  Dtype  \n",
            "---  ------                 --------------  -----  \n",
            " 0   Severity               78329 non-null  int64  \n",
            " 1   Start_Lat              78329 non-null  float64\n",
            " 2   Start_Lng              78329 non-null  float64\n",
            " 3   End_Lat                78329 non-null  float64\n",
            " 4   End_Lng                78329 non-null  float64\n",
            " 5   Distance(mi)           78329 non-null  float64\n",
            " 6   Description            78329 non-null  object \n",
            " 7   Street                 78329 non-null  object \n",
            " 8   City                   78329 non-null  object \n",
            " 9   County                 78329 non-null  object \n",
            " 10  State                  78329 non-null  object \n",
            " 11  Zipcode                78329 non-null  object \n",
            " 12  Timezone               78329 non-null  object \n",
            " 13  Airport_Code           78329 non-null  object \n",
            " 14  Weather_Timestamp      78329 non-null  object \n",
            " 15  Temperature(F)         78329 non-null  float64\n",
            " 16  Wind_Chill(F)          78329 non-null  float64\n",
            " 17  Humidity(%)            78329 non-null  float64\n",
            " 18  Pressure(in)           78329 non-null  float64\n",
            " 19  Visibility(mi)         78329 non-null  float64\n",
            " 20  Wind_Direction         78329 non-null  object \n",
            " 21  Wind_Speed(mph)        78329 non-null  float64\n",
            " 22  Precipitation(in)      78329 non-null  float64\n",
            " 23  Weather_Condition      78329 non-null  object \n",
            " 24  Amenity                78329 non-null  bool   \n",
            " 25  Bump                   78329 non-null  bool   \n",
            " 26  Crossing               78329 non-null  bool   \n",
            " 27  Give_Way               78329 non-null  bool   \n",
            " 28  Junction               78329 non-null  bool   \n",
            " 29  No_Exit                78329 non-null  bool   \n",
            " 30  Railway                78329 non-null  bool   \n",
            " 31  Roundabout             78329 non-null  bool   \n",
            " 32  Station                78329 non-null  bool   \n",
            " 33  Stop                   78329 non-null  bool   \n",
            " 34  Traffic_Calming        78329 non-null  bool   \n",
            " 35  Traffic_Signal         78329 non-null  bool   \n",
            " 36  Sunrise_Sunset         78329 non-null  object \n",
            " 37  Civil_Twilight         78329 non-null  object \n",
            " 38  Nautical_Twilight      78329 non-null  object \n",
            " 39  Astronomical_Twilight  78329 non-null  object \n",
            " 40  Duration               78329 non-null  float64\n",
            "dtypes: bool(12), float64(13), int64(1), object(15)\n",
            "memory usage: 18.8+ MB\n"
          ]
        }
      ]
    },
    {
      "cell_type": "code",
      "source": [
        "def data_preprocessing(df_input, train=True, preprocessors=None):\n",
        "    #df_input['Duration'] = (pd.to_datetime(df_input['End_Time']) - pd.to_datetime(df_input['Start_Time'])).dt.total_seconds()\n",
        "    #df_input['Start_Time'] = pd.to_datetime(df_input['Start_Time'])\n",
        "\n",
        "    keywords = ['closed', 'accident', 'blocked', 'stationary traffic', 'crash', 'injuries',\n",
        "                'overturned vehicle', 'construction work', 'delays', 'road closed',\n",
        "                'alternate route', 'caution', 'lanes closed', 'shoulder blocked',\n",
        "                'lane blocked', 'traffic problem', 'serious accident', 'investigation work', 'danger', 'vehicle crash']\n",
        "\n",
        "    for keyword in keywords:\n",
        "        df_input[keyword] = df_input['Description'].apply(lambda x: int(keyword in x.lower()))\n",
        "\n",
        "    drop_columns = ['Description', 'End_Lat', 'End_Lng' , 'Weather_Timestamp',  'Airport_Code']\n",
        "    df_input = df_input.drop(columns=drop_columns)\n",
        "\n",
        "    if train:\n",
        "        numeric_features = df_input.select_dtypes(include=['number']).drop(columns=['Severity']).columns\n",
        "        numeric_transformer = StandardScaler()\n",
        "\n",
        "        categorical_features = df_input.select_dtypes(include=['object']).columns\n",
        "        categorical_transformer = OneHotEncoder(handle_unknown='ignore')\n",
        "\n",
        "        preprocessors = ColumnTransformer(\n",
        "            transformers=[\n",
        "                ('num', numeric_transformer, numeric_features),\n",
        "                ('cat', categorical_transformer, categorical_features)\n",
        "            ])\n",
        "\n",
        "        X_processed = preprocessors.fit_transform(df_input)\n",
        "    else:\n",
        "        if preprocessors is None:\n",
        "            raise ValueError(\"Preprocessors must be provided for test data\")\n",
        "        X_processed = preprocessors.transform(df_input)\n",
        "\n",
        "    return X_processed, preprocessors"
      ],
      "metadata": {
        "id": "P6e3ASmHY-8v"
      },
      "execution_count": 18,
      "outputs": []
    },
    {
      "cell_type": "code",
      "source": [
        "# 從預處理器中獲取數值特徵的標準化統計數據\n",
        "X, preprocessors = data_preprocessing(df_train)\n",
        "train_sc = preprocessors.named_transformers_['num']\n",
        "print(train_sc.mean_)\n",
        "print(train_sc.var_)\n",
        "print(X.shape[1])"
      ],
      "metadata": {
        "colab": {
          "base_uri": "https://localhost:8080/"
        },
        "id": "05IA65GSqevZ",
        "outputId": "77e6ebbc-b962-49bb-8887-c4cd2468c8e1"
      },
      "execution_count": 19,
      "outputs": [
        {
          "output_type": "stream",
          "name": "stdout",
          "text": [
            "[ 3.69648327e+01 -9.29355984e+01  7.25779558e-01  6.48898875e+01\n",
            "  6.41189853e+01  6.17950823e+01  2.92445527e+01  9.24843774e+00\n",
            "  7.87343130e+00  6.55389447e-03  1.40834741e+00  2.43307077e-01\n",
            "  7.37504628e-01  2.22701681e-01  3.38188921e-02  3.20315592e-02\n",
            "  3.19166592e-04  7.37913161e-03  5.18326546e-03  5.00580883e-02\n",
            "  1.77201292e-01  6.72037177e-02  8.83070127e-02  1.23964304e-02\n",
            "  7.22082498e-02  1.06435675e-01  1.16814973e-02  1.84350624e-02\n",
            "  2.56609940e-03  1.63413295e-03  1.42986633e-02]\n",
            "[2.57051083e+01 2.91392336e+02 4.68396260e+00 3.01624549e+02\n",
            " 3.52127169e+02 6.26650996e+02 1.39481922e+00 6.69150809e+00\n",
            " 3.23424683e+01 1.92272202e-03 5.14273538e+02 1.84108743e-01\n",
            " 1.93591552e-01 1.73105642e-01 3.26751746e-02 3.10055384e-02\n",
            " 3.19064725e-04 7.32468003e-03 5.15639922e-03 4.75522761e-02\n",
            " 1.45800994e-01 6.26873780e-02 8.05088842e-02 1.22427590e-02\n",
            " 6.69942185e-02 9.51071222e-02 1.15450399e-02 1.80952108e-02\n",
            " 2.55951454e-03 1.63146256e-03 1.40942116e-02]\n",
            "50523\n"
          ]
        }
      ]
    },
    {
      "cell_type": "code",
      "source": [
        "# 獲取 one-hot encoder 轉換器\n",
        "categorical_transformer = preprocessors.named_transformers_['cat']\n",
        "\n",
        "# 查看 categorical_transformer 中每個類別特徵的唯一類別值\n",
        "categories = categorical_transformer.categories_\n",
        "\n",
        "# 統計每個原始類別特徵對應的類別數量，迭代處理 One-Hot Encoding 中的每一個類別特徵，並計算它們的唯一值數量\n",
        "number_of_classes = {feature: len(categories[idx]) for idx, feature in enumerate(preprocessors.transformers_[1][2])}\n",
        "\n",
        "print(number_of_classes)"
      ],
      "metadata": {
        "colab": {
          "base_uri": "https://localhost:8080/"
        },
        "id": "Lbdz4xvr61mc",
        "outputId": "6446f3ec-cdd3-40b0-9b0d-9bb3b1721fb9"
      },
      "execution_count": 24,
      "outputs": [
        {
          "output_type": "stream",
          "name": "stdout",
          "text": [
            "{'Street': 20090, 'City': 5354, 'County': 1128, 'State': 49, 'Zipcode': 23782, 'Timezone': 4, 'Wind_Direction': 18, 'Weather_Condition': 59, 'Sunrise_Sunset': 2, 'Civil_Twilight': 2, 'Nautical_Twilight': 2, 'Astronomical_Twilight': 2}\n"
          ]
        }
      ]
    },
    {
      "cell_type": "code",
      "source": [
        "print(X.shape)"
      ],
      "metadata": {
        "colab": {
          "base_uri": "https://localhost:8080/"
        },
        "id": "bonwoY6tGwwl",
        "outputId": "f2f39cd1-01db-4bbd-b87a-ea3f131f259a"
      },
      "execution_count": 23,
      "outputs": [
        {
          "output_type": "stream",
          "name": "stdout",
          "text": [
            "(78329, 50523)\n"
          ]
        }
      ]
    },
    {
      "cell_type": "markdown",
      "metadata": {
        "id": "WSLh8t8ZXS-I"
      },
      "source": [
        "## 4) One hot encoding\n",
        "對`Cover Type`輸出欄位的資料做 one-hot encoding，使用 Keras 提供的工具函式 to_categorical 將每筆資料的輸出值 y 轉換成一個向量。"
      ]
    },
    {
      "cell_type": "code",
      "execution_count": 25,
      "metadata": {
        "id": "Ygx_KpfyXS-J"
      },
      "outputs": [],
      "source": [
        "y = df_train['Severity'].values\n",
        "y=y-1"
      ]
    },
    {
      "cell_type": "code",
      "execution_count": 26,
      "metadata": {
        "id": "2e1Q39L5XS-L",
        "colab": {
          "base_uri": "https://localhost:8080/"
        },
        "outputId": "96a199e9-f41f-4782-9e5e-1cf1fa63667c"
      },
      "outputs": [
        {
          "output_type": "execute_result",
          "data": {
            "text/plain": [
              "array([0, 1, 2, 3])"
            ]
          },
          "metadata": {},
          "execution_count": 26
        }
      ],
      "source": [
        "np.unique(y)"
      ]
    },
    {
      "cell_type": "code",
      "execution_count": 27,
      "metadata": {
        "id": "GTdO2MRcXS-M"
      },
      "outputs": [],
      "source": [
        "from tensorflow.keras.utils import to_categorical\n",
        "y = to_categorical(y)"
      ]
    },
    {
      "cell_type": "code",
      "execution_count": 28,
      "metadata": {
        "id": "fHiQhI7MXS-N",
        "colab": {
          "base_uri": "https://localhost:8080/"
        },
        "outputId": "304d2e00-d5bc-4c3f-e013-39764763e772"
      },
      "outputs": [
        {
          "output_type": "execute_result",
          "data": {
            "text/plain": [
              "(78329, 4)"
            ]
          },
          "metadata": {},
          "execution_count": 28
        }
      ],
      "source": [
        "y.shape"
      ]
    },
    {
      "cell_type": "code",
      "execution_count": 29,
      "metadata": {
        "id": "tTj4B7vOXS-O",
        "colab": {
          "base_uri": "https://localhost:8080/"
        },
        "outputId": "966bcdcc-0025-4341-e0d9-2fc0115f2ab5"
      },
      "outputs": [
        {
          "output_type": "execute_result",
          "data": {
            "text/plain": [
              "array([[0., 0., 0., 1.],\n",
              "       [0., 0., 1., 0.],\n",
              "       [0., 1., 0., 0.],\n",
              "       [1., 0., 0., 0.]], dtype=float32)"
            ]
          },
          "metadata": {},
          "execution_count": 29
        }
      ],
      "source": [
        "np.unique(y, axis=0)"
      ]
    },
    {
      "cell_type": "markdown",
      "metadata": {
        "id": "Q7mLxLRXXS-P"
      },
      "source": [
        "## 5) 切割訓練集與測試集"
      ]
    },
    {
      "cell_type": "code",
      "execution_count": 30,
      "metadata": {
        "id": "EZuojIAFXS-Q"
      },
      "outputs": [],
      "source": [
        "from sklearn.model_selection import train_test_split\n",
        "X_train , X_valid , y_train , y_valid = train_test_split(X, y, test_size=0.3, random_state=17, stratify=y)"
      ]
    },
    {
      "cell_type": "code",
      "execution_count": 31,
      "metadata": {
        "id": "SZn4UtPUXS-R",
        "colab": {
          "base_uri": "https://localhost:8080/",
          "height": 447
        },
        "outputId": "56140d77-9c1c-476e-e6a0-9477a5e3cb76"
      },
      "outputs": [
        {
          "output_type": "execute_result",
          "data": {
            "text/plain": [
              "<BarContainer object of 4 artists>"
            ]
          },
          "metadata": {},
          "execution_count": 31
        },
        {
          "output_type": "display_data",
          "data": {
            "text/plain": [
              "<Figure size 640x480 with 1 Axes>"
            ],
            "image/png": "[encoded data removed]"
          },
          "metadata": {}
        }
      ],
      "source": [
        "unique, counts = np.unique(y.argmax(-1), return_counts=True)\n",
        "plt.bar(unique, counts)"
      ]
    },
    {
      "cell_type": "code",
      "execution_count": 32,
      "metadata": {
        "id": "a-pbw2hbXS-S",
        "colab": {
          "base_uri": "https://localhost:8080/",
          "height": 447
        },
        "outputId": "8931e3d3-70b5-4e24-d24e-274266b2aaf9"
      },
      "outputs": [
        {
          "output_type": "execute_result",
          "data": {
            "text/plain": [
              "<BarContainer object of 4 artists>"
            ]
          },
          "metadata": {},
          "execution_count": 32
        },
        {
          "output_type": "display_data",
          "data": {
            "text/plain": [
              "<Figure size 640x480 with 1 Axes>"
            ],
            "image/png": "[encoded data removed]"
          },
          "metadata": {}
        }
      ],
      "source": [
        "unique, counts = np.unique(y_train.argmax(-1), return_counts=True)\n",
        "plt.bar(unique, counts)"
      ]
    },
    {
      "cell_type": "code",
      "execution_count": 33,
      "metadata": {
        "id": "9gW3oHFYXS-T",
        "colab": {
          "base_uri": "https://localhost:8080/"
        },
        "outputId": "47ac23fa-c95b-42b8-b614-1074bb90d61c"
      },
      "outputs": [
        {
          "output_type": "stream",
          "name": "stdout",
          "text": [
            "訓練資料:  (54830, 50523) \t訓練目標:  (54830, 4)\n",
            "驗證資料:  (23499, 50523) \t驗證目標:  (23499, 4)\n"
          ]
        }
      ],
      "source": [
        "print('訓練資料: ', X_train.shape, '\\t訓練目標: ', y_train.shape)\n",
        "print('驗證資料: ', X_valid.shape, '\\t驗證目標: ', y_valid.shape)"
      ]
    },
    {
      "cell_type": "markdown",
      "metadata": {
        "id": "dUYYZAHfXS-U"
      },
      "source": [
        "## 6) 建立網路模型"
      ]
    },
    {
      "cell_type": "code",
      "execution_count": 34,
      "metadata": {
        "id": "drdnLym0XS-V",
        "colab": {
          "base_uri": "https://localhost:8080/"
        },
        "outputId": "c3c18717-3b3a-4064-ae7c-f5e61a40a1c6"
      },
      "outputs": [
        {
          "output_type": "stream",
          "name": "stdout",
          "text": [
            "2.15.0\n"
          ]
        }
      ],
      "source": [
        "import tensorflow as tf\n",
        "from tensorflow import keras\n",
        "from tensorflow.keras.layers import Dense, Activation, Dropout, BatchNormalization\n",
        "from tensorflow.keras import Sequential, callbacks\n",
        "from tensorflow.keras.models import Model\n",
        "from tensorflow.keras.optimizers import Adam, Nadam\n",
        "\n",
        "print(tf.__version__)"
      ]
    },
    {
      "cell_type": "code",
      "source": [
        "X_train.shape[1:]"
      ],
      "metadata": {
        "id": "yjS34R4-BOl0",
        "colab": {
          "base_uri": "https://localhost:8080/"
        },
        "outputId": "86490940-5c24-479e-c853-2c0ae189329a"
      },
      "execution_count": 35,
      "outputs": [
        {
          "output_type": "execute_result",
          "data": {
            "text/plain": [
              "(50523,)"
            ]
          },
          "metadata": {},
          "execution_count": 35
        }
      ]
    },
    {
      "cell_type": "code",
      "source": [
        "#tensorfloq相關套件\n",
        "import tensorflow as tf\n",
        "from tensorflow import keras\n",
        "from tensorflow.keras.layers import Dense, Activation, Dropout, BatchNormalization, LayerNormalization,LSTM,Conv1D, Input\n",
        "from tensorflow.keras import Sequential, callbacks\n",
        "from tensorflow.keras.models import Model\n",
        "from tensorflow.keras.optimizers import Adam, Nadam\n",
        "from tensorflow.keras.layers import LeakyReLU\n",
        "from keras.layers import Dropout\n",
        "\n",
        "print(tf.__version__)"
      ],
      "metadata": {
        "colab": {
          "base_uri": "https://localhost:8080/"
        },
        "id": "pxMFnMkEjVQX",
        "outputId": "74133191-6de3-46d3-d54a-3ebec7cbf7e2"
      },
      "execution_count": 36,
      "outputs": [
        {
          "output_type": "stream",
          "name": "stdout",
          "text": [
            "2.15.0\n"
          ]
        }
      ]
    },
    {
      "cell_type": "code",
      "source": [
        "\n",
        "def build_model(X):\n",
        "    model = Sequential()\n",
        "    model.add(Dense(32, input_shape=X.shape[1:]))\n",
        "    model.add(BatchNormalization())\n",
        "    model.add(Dense(64,activation=LeakyReLU(0.1)))\n",
        "    model.add(BatchNormalization())\n",
        "    model.add(Dense(128,activation=LeakyReLU(0.1)))\n",
        "    model.add(BatchNormalization())\n",
        "    model.add(Dense(256,activation=LeakyReLU(0.1)))\n",
        "    model.add(BatchNormalization())\n",
        "    model.add(Dense(256,activation=LeakyReLU(0.1)))\n",
        "    model.add(BatchNormalization())\n",
        "    model.add(Dense(256,activation=LeakyReLU(0.1)))\n",
        "    model.add(BatchNormalization())\n",
        "    model.add(Dense(128,activation=LeakyReLU(0.1)))\n",
        "    model.add(BatchNormalization())\n",
        "    model.add(Dense(64,activation=LeakyReLU(0.1)))\n",
        "    model.add(BatchNormalization())\n",
        "    model.add(Dense(32,activation=LeakyReLU(0.1)))\n",
        "    model.add(BatchNormalization())\n",
        "    model.add(Dense(4,activation=\"softmax\"))\n",
        "    return model"
      ],
      "metadata": {
        "id": "jAYivG-ejCSg"
      },
      "execution_count": 37,
      "outputs": []
    },
    {
      "cell_type": "code",
      "execution_count": null,
      "metadata": {
        "id": "Y7GVLf61XS-a",
        "colab": {
          "base_uri": "https://localhost:8080/"
        },
        "outputId": "b7bf9733-277f-4805-beb0-1e7e6bbd07d3"
      },
      "outputs": [
        {
          "output_type": "stream",
          "name": "stdout",
          "text": [
            "Model: \"sequential\"\n",
            "_________________________________________________________________\n",
            " Layer (type)                Output Shape              Param #   \n",
            "=================================================================\n",
            " dense (Dense)               (None, 32)                1616832   \n",
            "                                                                 \n",
            " batch_normalization (Batch  (None, 32)                128       \n",
            " Normalization)                                                  \n",
            "                                                                 \n",
            " dense_1 (Dense)             (None, 64)                2112      \n",
            "                                                                 \n",
            " batch_normalization_1 (Bat  (None, 64)                256       \n",
            " chNormalization)                                                \n",
            "                                                                 \n",
            " dense_2 (Dense)             (None, 128)               8320      \n",
            "                                                                 \n",
            " batch_normalization_2 (Bat  (None, 128)               512       \n",
            " chNormalization)                                                \n",
            "                                                                 \n",
            " dense_3 (Dense)             (None, 256)               33024     \n",
            "                                                                 \n",
            " batch_normalization_3 (Bat  (None, 256)               1024      \n",
            " chNormalization)                                                \n",
            "                                                                 \n",
            " dense_4 (Dense)             (None, 256)               65792     \n",
            "                                                                 \n",
            " batch_normalization_4 (Bat  (None, 256)               1024      \n",
            " chNormalization)                                                \n",
            "                                                                 \n",
            " dense_5 (Dense)             (None, 256)               65792     \n",
            "                                                                 \n",
            " batch_normalization_5 (Bat  (None, 256)               1024      \n",
            " chNormalization)                                                \n",
            "                                                                 \n",
            " dense_6 (Dense)             (None, 128)               32896     \n",
            "                                                                 \n",
            " batch_normalization_6 (Bat  (None, 128)               512       \n",
            " chNormalization)                                                \n",
            "                                                                 \n",
            " dense_7 (Dense)             (None, 64)                8256      \n",
            "                                                                 \n",
            " batch_normalization_7 (Bat  (None, 64)                256       \n",
            " chNormalization)                                                \n",
            "                                                                 \n",
            " dense_8 (Dense)             (None, 32)                2080      \n",
            "                                                                 \n",
            " batch_normalization_8 (Bat  (None, 32)                128       \n",
            " chNormalization)                                                \n",
            "                                                                 \n",
            " dense_9 (Dense)             (None, 4)                 132       \n",
            "                                                                 \n",
            "=================================================================\n",
            "Total params: 1840100 (7.02 MB)\n",
            "Trainable params: 1837668 (7.01 MB)\n",
            "Non-trainable params: 2432 (9.50 KB)\n",
            "_________________________________________________________________\n"
          ]
        }
      ],
      "source": [
        "tf.keras.backend.clear_session()\n",
        "model = build_model(X_train)\n",
        "model.summary()"
      ]
    },
    {
      "cell_type": "code",
      "source": [
        "model.layers"
      ],
      "metadata": {
        "id": "pKYOy-soCEqh",
        "colab": {
          "base_uri": "https://localhost:8080/"
        },
        "outputId": "8fd14036-3c83-47fa-8e73-084c6d9dd158"
      },
      "execution_count": null,
      "outputs": [
        {
          "output_type": "execute_result",
          "data": {
            "text/plain": [
              "[<keras.src.layers.core.dense.Dense at 0x7f919e61e770>,\n",
              " <keras.src.layers.normalization.batch_normalization.BatchNormalization at 0x7f919ead8f70>,\n",
              " <keras.src.layers.core.dense.Dense at 0x7f919eaba440>,\n",
              " <keras.src.layers.normalization.batch_normalization.BatchNormalization at 0x7f919eada860>,\n",
              " <keras.src.layers.core.dense.Dense at 0x7f919eb9b760>,\n",
              " <keras.src.layers.normalization.batch_normalization.BatchNormalization at 0x7f919eb9b460>,\n",
              " <keras.src.layers.core.dense.Dense at 0x7f919e5e4070>,\n",
              " <keras.src.layers.normalization.batch_normalization.BatchNormalization at 0x7f919e5e7c10>,\n",
              " <keras.src.layers.core.dense.Dense at 0x7f919946c460>,\n",
              " <keras.src.layers.normalization.batch_normalization.BatchNormalization at 0x7f919946d120>,\n",
              " <keras.src.layers.core.dense.Dense at 0x7f919946e7d0>,\n",
              " <keras.src.layers.normalization.batch_normalization.BatchNormalization at 0x7f919946ef80>,\n",
              " <keras.src.layers.core.dense.Dense at 0x7f919946fbb0>,\n",
              " <keras.src.layers.normalization.batch_normalization.BatchNormalization at 0x7f919946f2b0>,\n",
              " <keras.src.layers.core.dense.Dense at 0x7f91994923b0>,\n",
              " <keras.src.layers.normalization.batch_normalization.BatchNormalization at 0x7f9199492ad0>,\n",
              " <keras.src.layers.core.dense.Dense at 0x7f91994b81c0>,\n",
              " <keras.src.layers.normalization.batch_normalization.BatchNormalization at 0x7f91994b8970>,\n",
              " <keras.src.layers.core.dense.Dense at 0x7f91994b8c40>]"
            ]
          },
          "metadata": {},
          "execution_count": 39
        }
      ]
    },
    {
      "cell_type": "code",
      "source": [
        "model.layers[0].trainable_weights"
      ],
      "metadata": {
        "id": "fRBoW_tNNvWB",
        "colab": {
          "base_uri": "https://localhost:8080/"
        },
        "outputId": "f6a88c47-f222-44cd-9ae4-5840af4d5650"
      },
      "execution_count": null,
      "outputs": [
        {
          "output_type": "execute_result",
          "data": {
            "text/plain": [
              "[<tf.Variable 'dense/kernel:0' shape=(50525, 32) dtype=float32, numpy=\n",
              " array([[-0.00431765,  0.00983014, -0.0027913 , ..., -0.01087483,\n",
              "         -0.009811  ,  0.00542315],\n",
              "        [-0.00281685,  0.0065946 ,  0.0101741 , ...,  0.0047077 ,\n",
              "          0.00532765, -0.00304264],\n",
              "        [-0.00027634, -0.00990064,  0.01039324, ..., -0.01060772,\n",
              "          0.00197836,  0.0010002 ],\n",
              "        ...,\n",
              "        [-0.01040226,  0.00998266,  0.01015499, ...,  0.00689405,\n",
              "         -0.00968431, -0.00719248],\n",
              "        [ 0.00016882, -0.00195836, -0.00868017, ..., -0.01045017,\n",
              "         -0.00091315,  0.00126028],\n",
              "        [-0.00295462,  0.0040408 ,  0.00676959, ...,  0.00617937,\n",
              "         -0.00737231, -0.00887928]], dtype=float32)>,\n",
              " <tf.Variable 'dense/bias:0' shape=(32,) dtype=float32, numpy=\n",
              " array([0., 0., 0., 0., 0., 0., 0., 0., 0., 0., 0., 0., 0., 0., 0., 0., 0.,\n",
              "        0., 0., 0., 0., 0., 0., 0., 0., 0., 0., 0., 0., 0., 0., 0.],\n",
              "       dtype=float32)>]"
            ]
          },
          "metadata": {},
          "execution_count": 40
        }
      ]
    },
    {
      "cell_type": "code",
      "execution_count": null,
      "metadata": {
        "id": "WLSdcUKZXS-g"
      },
      "outputs": [],
      "source": [
        "# 編譯模型\n",
        "optim = Adam(learning_rate=0.001)\n",
        "model.compile(loss='categorical_crossentropy',\n",
        "              optimizer=optim,   # w_new = w_old - learning_rate * gradient\n",
        "              metrics=['acc'])"
      ]
    },
    {
      "cell_type": "code",
      "execution_count": null,
      "metadata": {
        "id": "RHtsZU9M-qvn"
      },
      "outputs": [],
      "source": [
        "rlp = callbacks.ReduceLROnPlateau(\n",
        "   monitor='val_loss',  # 是否進步的指標\n",
        "    factor=0.1,  # 以 factor 的倍數調整 learning rate\n",
        "    patience=5,  # 經過 patience 次沒有進步調整 learning rate\n",
        "    verbose=2,\n",
        "    mode='min')"
      ]
    },
    {
      "cell_type": "code",
      "execution_count": null,
      "metadata": {
        "id": "aKv1N6hfXS-l",
        "colab": {
          "base_uri": "https://localhost:8080/"
        },
        "outputId": "417169e5-36a3-4dcb-9e58-dc20a38f0f79"
      },
      "outputs": [
        {
          "output_type": "stream",
          "name": "stdout",
          "text": [
            "Epoch 1/30\n",
            "108/108 [==============================] - 22s 117ms/step - loss: 0.4654 - acc: 0.8301 - val_loss: 1.3396 - val_acc: 0.2605 - lr: 0.0010\n",
            "Epoch 2/30\n",
            "108/108 [==============================] - 5s 48ms/step - loss: 0.2556 - acc: 0.9062 - val_loss: 1.0321 - val_acc: 0.5190 - lr: 0.0010\n",
            "Epoch 3/30\n",
            "108/108 [==============================] - 5s 43ms/step - loss: 0.1877 - acc: 0.9283 - val_loss: 0.6720 - val_acc: 0.7274 - lr: 0.0010\n",
            "Epoch 4/30\n",
            "108/108 [==============================] - 3s 24ms/step - loss: 0.1434 - acc: 0.9446 - val_loss: 0.3987 - val_acc: 0.8660 - lr: 0.0010\n",
            "Epoch 5/30\n",
            "108/108 [==============================] - 2s 21ms/step - loss: 0.1176 - acc: 0.9542 - val_loss: 0.4056 - val_acc: 0.8703 - lr: 0.0010\n",
            "Epoch 6/30\n",
            "108/108 [==============================] - 3s 29ms/step - loss: 0.1052 - acc: 0.9583 - val_loss: 0.4571 - val_acc: 0.8742 - lr: 0.0010\n",
            "Epoch 7/30\n",
            "108/108 [==============================] - 3s 31ms/step - loss: 0.0910 - acc: 0.9635 - val_loss: 0.4647 - val_acc: 0.8718 - lr: 0.0010\n",
            "Epoch 8/30\n",
            "108/108 [==============================] - 2s 22ms/step - loss: 0.0819 - acc: 0.9668 - val_loss: 0.5238 - val_acc: 0.8668 - lr: 0.0010\n",
            "Epoch 9/30\n",
            "108/108 [==============================] - ETA: 0s - loss: 0.0806 - acc: 0.9666\n",
            "Epoch 9: ReduceLROnPlateau reducing learning rate to 0.00010000000474974513.\n",
            "108/108 [==============================] - 3s 25ms/step - loss: 0.0806 - acc: 0.9666 - val_loss: 0.5362 - val_acc: 0.8763 - lr: 0.0010\n",
            "Epoch 10/30\n",
            "108/108 [==============================] - 3s 22ms/step - loss: 0.0502 - acc: 0.9793 - val_loss: 0.5107 - val_acc: 0.8805 - lr: 1.0000e-04\n",
            "Epoch 11/30\n",
            "108/108 [==============================] - 2s 17ms/step - loss: 0.0392 - acc: 0.9835 - val_loss: 0.5166 - val_acc: 0.8797 - lr: 1.0000e-04\n",
            "Epoch 12/30\n",
            "108/108 [==============================] - 2s 16ms/step - loss: 0.0346 - acc: 0.9849 - val_loss: 0.5321 - val_acc: 0.8804 - lr: 1.0000e-04\n",
            "Epoch 13/30\n",
            "108/108 [==============================] - 2s 16ms/step - loss: 0.0312 - acc: 0.9864 - val_loss: 0.5503 - val_acc: 0.8799 - lr: 1.0000e-04\n",
            "Epoch 14/30\n",
            "107/108 [============================>.] - ETA: 0s - loss: 0.0298 - acc: 0.9871\n",
            "Epoch 14: ReduceLROnPlateau reducing learning rate to 1.0000000474974514e-05.\n",
            "108/108 [==============================] - 3s 24ms/step - loss: 0.0298 - acc: 0.9871 - val_loss: 0.5595 - val_acc: 0.8794 - lr: 1.0000e-04\n",
            "Epoch 15/30\n",
            "108/108 [==============================] - 3s 29ms/step - loss: 0.0257 - acc: 0.9890 - val_loss: 0.5661 - val_acc: 0.8807 - lr: 1.0000e-05\n",
            "Epoch 16/30\n",
            "108/108 [==============================] - 2s 17ms/step - loss: 0.0260 - acc: 0.9888 - val_loss: 0.5695 - val_acc: 0.8805 - lr: 1.0000e-05\n",
            "Epoch 17/30\n",
            "108/108 [==============================] - 2s 16ms/step - loss: 0.0247 - acc: 0.9895 - val_loss: 0.5733 - val_acc: 0.8806 - lr: 1.0000e-05\n",
            "Epoch 18/30\n",
            "108/108 [==============================] - 2s 19ms/step - loss: 0.0252 - acc: 0.9892 - val_loss: 0.5763 - val_acc: 0.8805 - lr: 1.0000e-05\n",
            "Epoch 19/30\n",
            "104/108 [===========================>..] - ETA: 0s - loss: 0.0242 - acc: 0.9891\n",
            "Epoch 19: ReduceLROnPlateau reducing learning rate to 1.0000000656873453e-06.\n",
            "108/108 [==============================] - 2s 18ms/step - loss: 0.0241 - acc: 0.9891 - val_loss: 0.5803 - val_acc: 0.8805 - lr: 1.0000e-05\n",
            "Epoch 20/30\n",
            "108/108 [==============================] - 2s 19ms/step - loss: 0.0242 - acc: 0.9894 - val_loss: 0.5815 - val_acc: 0.8807 - lr: 1.0000e-06\n",
            "Epoch 21/30\n",
            "108/108 [==============================] - 3s 31ms/step - loss: 0.0246 - acc: 0.9895 - val_loss: 0.5813 - val_acc: 0.8807 - lr: 1.0000e-06\n",
            "Epoch 22/30\n",
            "108/108 [==============================] - 2s 15ms/step - loss: 0.0238 - acc: 0.9898 - val_loss: 0.5818 - val_acc: 0.8805 - lr: 1.0000e-06\n",
            "Epoch 23/30\n",
            "108/108 [==============================] - 2s 19ms/step - loss: 0.0242 - acc: 0.9896 - val_loss: 0.5816 - val_acc: 0.8805 - lr: 1.0000e-06\n",
            "Epoch 24/30\n",
            "108/108 [==============================] - ETA: 0s - loss: 0.0239 - acc: 0.9899\n",
            "Epoch 24: ReduceLROnPlateau reducing learning rate to 1.0000001111620805e-07.\n",
            "108/108 [==============================] - 2s 21ms/step - loss: 0.0239 - acc: 0.9899 - val_loss: 0.5828 - val_acc: 0.8808 - lr: 1.0000e-06\n",
            "Epoch 25/30\n",
            "108/108 [==============================] - 3s 23ms/step - loss: 0.0240 - acc: 0.9900 - val_loss: 0.5818 - val_acc: 0.8806 - lr: 1.0000e-07\n",
            "Epoch 26/30\n",
            "108/108 [==============================] - 3s 22ms/step - loss: 0.0240 - acc: 0.9896 - val_loss: 0.5820 - val_acc: 0.8805 - lr: 1.0000e-07\n",
            "Epoch 27/30\n",
            "108/108 [==============================] - 2s 19ms/step - loss: 0.0239 - acc: 0.9897 - val_loss: 0.5823 - val_acc: 0.8805 - lr: 1.0000e-07\n",
            "Epoch 28/30\n",
            "108/108 [==============================] - 2s 16ms/step - loss: 0.0241 - acc: 0.9894 - val_loss: 0.5824 - val_acc: 0.8808 - lr: 1.0000e-07\n",
            "Epoch 29/30\n",
            "106/108 [============================>.] - ETA: 0s - loss: 0.0245 - acc: 0.9893\n",
            "Epoch 29: ReduceLROnPlateau reducing learning rate to 1.000000082740371e-08.\n",
            "108/108 [==============================] - 2s 16ms/step - loss: 0.0244 - acc: 0.9893 - val_loss: 0.5819 - val_acc: 0.8805 - lr: 1.0000e-07\n",
            "Epoch 30/30\n",
            "108/108 [==============================] - 2s 16ms/step - loss: 0.0239 - acc: 0.9900 - val_loss: 0.5817 - val_acc: 0.8805 - lr: 1.0000e-08\n"
          ]
        }
      ],
      "source": [
        "batch_size = 512\n",
        "epochs = 30\n",
        "\n",
        "# 訓練模型\n",
        "history = model.fit(X_train, y_train,\n",
        "                    validation_data=(X_valid, y_valid),\n",
        "                    batch_size=batch_size,\n",
        "                    epochs=epochs,\n",
        "                    verbose=1,\n",
        "                    shuffle=True, callbacks=[rlp])"
      ]
    },
    {
      "cell_type": "markdown",
      "metadata": {
        "id": "Fi0FcnpgXS-m"
      },
      "source": [
        "## 7) 觀察訓練結果"
      ]
    },
    {
      "cell_type": "code",
      "execution_count": null,
      "metadata": {
        "id": "-y9ViM0vXS-n",
        "colab": {
          "base_uri": "https://localhost:8080/"
        },
        "outputId": "32a5acfc-97b0-437d-9791-7dc3a3b1d8e6"
      },
      "outputs": [
        {
          "output_type": "execute_result",
          "data": {
            "text/plain": [
              "dict_keys(['loss', 'acc', 'val_loss', 'val_acc', 'lr'])"
            ]
          },
          "metadata": {},
          "execution_count": 44
        }
      ],
      "source": [
        "history_dict = history.history\n",
        "history_dict.keys()"
      ]
    },
    {
      "cell_type": "code",
      "execution_count": null,
      "metadata": {
        "id": "J06zMLRwXS-o"
      },
      "outputs": [],
      "source": [
        "import matplotlib.pyplot as plt\n",
        "\n",
        "acc = history_dict['acc']\n",
        "val_acc = history_dict['val_acc']\n",
        "loss = history_dict['loss']\n",
        "val_loss = history_dict['val_loss']\n",
        "epochs_ = range(1,len(acc)+1)"
      ]
    },
    {
      "cell_type": "code",
      "execution_count": null,
      "metadata": {
        "id": "8Nd8tMbOXAIj",
        "colab": {
          "base_uri": "https://localhost:8080/",
          "height": 427
        },
        "outputId": "fdb348c1-ddb7-4ddf-8aea-bf1565a2aa29"
      },
      "outputs": [
        {
          "output_type": "execute_result",
          "data": {
            "text/plain": [
              "<matplotlib.legend.Legend at 0x7f9180517940>"
            ]
          },
          "metadata": {},
          "execution_count": 46
        },
        {
          "output_type": "display_data",
          "data": {
            "text/plain": [
              "<Figure size 1500x400 with 2 Axes>"
            ],
            "image/png": "[encoded data removed]"
          },
          "metadata": {}
        }
      ],
      "source": [
        "plt.figure(figsize=(15, 4))\n",
        "plt.subplot(1, 2, 1)\n",
        "plt.plot(epochs_ , loss , label = 'training loss')\n",
        "plt.plot(epochs_ , val_loss , label = 'val los')\n",
        "plt.title('training and val loss')\n",
        "plt.xlabel('epochs')\n",
        "plt.ylabel('loss')\n",
        "plt.legend()\n",
        "\n",
        "plt.subplot(1, 2, 2)\n",
        "plt.plot(epochs_ , acc , label='train accuracy')\n",
        "plt.plot(epochs_ , val_acc , label = 'val accuracy')\n",
        "plt.title('train and val acc')\n",
        "plt.xlabel('epochs')\n",
        "plt.ylabel('acc')\n",
        "plt.ylim((0.5, 1))\n",
        "plt.legend()"
      ]
    },
    {
      "cell_type": "markdown",
      "metadata": {
        "id": "XpGA8QspXS-p"
      },
      "source": [
        "## 觀察訓練集上的成效"
      ]
    },
    {
      "cell_type": "code",
      "execution_count": null,
      "metadata": {
        "id": "8n1Nmun2UpPU",
        "colab": {
          "base_uri": "https://localhost:8080/"
        },
        "outputId": "663c1034-d4a9-422d-fd36-495ac221c036"
      },
      "outputs": [
        {
          "output_type": "stream",
          "name": "stdout",
          "text": [
            "loss:0.021278999745845795, accuracy:0.9907897114753723\n"
          ]
        }
      ],
      "source": [
        "loss, acc = model.evaluate(X_train, y_train, verbose=0)\n",
        "print(f'loss:{loss}, accuracy:{acc}')"
      ]
    },
    {
      "cell_type": "markdown",
      "metadata": {
        "id": "TA8CHUDJXS-3"
      },
      "source": [
        "## 觀察驗證集上的成效"
      ]
    },
    {
      "cell_type": "code",
      "execution_count": null,
      "metadata": {
        "id": "I0RzxTkwXS-4",
        "colab": {
          "base_uri": "https://localhost:8080/"
        },
        "outputId": "b484b1f9-5417-4b31-9821-7e4878708e41"
      },
      "outputs": [
        {
          "output_type": "stream",
          "name": "stdout",
          "text": [
            "735/735 [==============================] - 3s 3ms/step\n"
          ]
        },
        {
          "output_type": "execute_result",
          "data": {
            "text/plain": [
              "0.880548108430146"
            ]
          },
          "metadata": {},
          "execution_count": 48
        }
      ],
      "source": [
        "from sklearn.metrics import accuracy_score\n",
        "label= np.argmax(y_valid,axis=1)\n",
        "pred = np.argmax(model.predict(X_valid), axis=1)\n",
        "accuracy_score(label, pred)"
      ]
    },
    {
      "cell_type": "code",
      "execution_count": null,
      "metadata": {
        "id": "XPufqvaJ-qwE",
        "colab": {
          "base_uri": "https://localhost:8080/"
        },
        "outputId": "a7befb3a-fe2d-4851-a9d0-78845cd93901"
      },
      "outputs": [
        {
          "output_type": "stream",
          "name": "stdout",
          "text": [
            "735/735 [==============================] - 3s 4ms/step\n"
          ]
        },
        {
          "output_type": "execute_result",
          "data": {
            "text/plain": [
              "array([[9.9924278e-01, 5.0687562e-05, 5.8204070e-04, 1.2441279e-04],\n",
              "       [7.2333416e-05, 9.9986279e-01, 1.3332990e-05, 5.1495521e-05],\n",
              "       [4.1214011e-05, 8.4771869e-05, 8.6912478e-05, 9.9978715e-01],\n",
              "       [6.5765758e-05, 3.7738842e-05, 9.9896431e-01, 9.3216548e-04],\n",
              "       [1.2303131e-03, 3.6034209e-04, 8.4288031e-01, 1.5552898e-01],\n",
              "       [1.0709678e-01, 8.8434917e-01, 5.1871869e-03, 3.3669565e-03],\n",
              "       [2.6493524e-03, 1.0581816e-04, 9.9603975e-01, 1.2050271e-03],\n",
              "       [1.3903138e-05, 9.9990404e-01, 1.8591880e-05, 6.3418564e-05],\n",
              "       [9.9728179e-01, 2.5831256e-04, 1.6839253e-03, 7.7591900e-04],\n",
              "       [9.6729416e-01, 6.8066404e-03, 2.3639865e-02, 2.2593352e-03]],\n",
              "      dtype=float32)"
            ]
          },
          "metadata": {},
          "execution_count": 49
        }
      ],
      "source": [
        "model.predict(X_valid)[:10]"
      ]
    },
    {
      "cell_type": "code",
      "execution_count": null,
      "metadata": {
        "id": "h1cs740qXS-7",
        "colab": {
          "base_uri": "https://localhost:8080/"
        },
        "outputId": "7eede94d-19db-45f9-94a5-01c2d3054b29"
      },
      "outputs": [
        {
          "output_type": "stream",
          "name": "stdout",
          "text": [
            "735/735 [==============================] - 2s 3ms/step\n"
          ]
        },
        {
          "output_type": "execute_result",
          "data": {
            "text/plain": [
              "array([0, 1, 3, 2, 2, 1, 2, 1, 0, 0])"
            ]
          },
          "metadata": {},
          "execution_count": 50
        }
      ],
      "source": [
        "model.predict(X_valid)[:10].argmax(-1)"
      ]
    },
    {
      "cell_type": "code",
      "execution_count": null,
      "metadata": {
        "id": "lQ7k3B5vXS-8",
        "colab": {
          "base_uri": "https://localhost:8080/"
        },
        "outputId": "c4c4dec9-06b5-4727-a7d0-a228560a68a3"
      },
      "outputs": [
        {
          "output_type": "stream",
          "name": "stdout",
          "text": [
            "              precision    recall  f1-score   support\n",
            "\n",
            "           0       0.90      0.88      0.89      5779\n",
            "           1       0.93      0.90      0.91      5863\n",
            "           2       0.83      0.86      0.85      5959\n",
            "           3       0.87      0.88      0.87      5898\n",
            "\n",
            "    accuracy                           0.88     23499\n",
            "   macro avg       0.88      0.88      0.88     23499\n",
            "weighted avg       0.88      0.88      0.88     23499\n",
            "\n"
          ]
        }
      ],
      "source": [
        "from sklearn.metrics import classification_report\n",
        "print(classification_report(label, pred))"
      ]
    },
    {
      "cell_type": "code",
      "execution_count": null,
      "metadata": {
        "id": "IKz9ZbFAXS--",
        "colab": {
          "base_uri": "https://localhost:8080/"
        },
        "outputId": "cd10bfa5-031a-4c1b-ea71-5f517ed27de3"
      },
      "outputs": [
        {
          "output_type": "stream",
          "name": "stdout",
          "text": [
            "[[5102   72  542   63]\n",
            " [ 100 5271  110  382]\n",
            " [ 421   75 5126  337]\n",
            " [  66  260  379 5193]]\n"
          ]
        }
      ],
      "source": [
        "from sklearn.metrics import confusion_matrix\n",
        "print(confusion_matrix(label, pred))"
      ]
    },
    {
      "cell_type": "markdown",
      "metadata": {
        "id": "-gbyxexmXS-_"
      },
      "source": [
        "## 預測 test.csv"
      ]
    },
    {
      "cell_type": "code",
      "source": [
        "    # 載入測試數據\n",
        "df_test = pd.read_csv('Test.csv')\n",
        "\n",
        "# 假設 unique_col 和 preprocessors 已經從訓練階段獲得\n",
        "#df_test = df_test.drop(unique_col, axis=1)  # 移除在訓練集中沒有變化的列\n",
        "df_test = df_test.drop(labels=['ID'], axis=1)  # 移除 ID 列\n",
        "df_test = df_test.drop(labels=['Source','Country','Turning_Loop'],axis=1)\n",
        "\n",
        "# 在應用預處理之前，為測試數據計算 Duration\n",
        "#start_times = pd.to_datetime(df_test['Start_Time'])\n",
        "#end_times = pd.to_datetime(df_test['End_Time'])\n",
        "#df_test['Duration'] = (end_times - start_times).dt.total_seconds()\n",
        "\n",
        "keywords = ['closed', 'accident', 'blocked', 'stationary traffic', 'crash', 'injuries',\n",
        "            'overturned vehicle', 'construction work', 'delays', 'road closed',\n",
        "            'alternate route', 'caution', 'lanes closed', 'shoulder blocked',\n",
        "            'lane blocked', 'traffic problem', 'serious accident', 'investigation work',\n",
        "            'danger', 'vehicle crash']\n",
        "\n",
        "#關鍵字提取\n",
        "if 'Description' in df_test.columns:\n",
        "  for keyword in keywords:\n",
        "        df_test[keyword] = df_test['Description'].apply(lambda x: int(keyword in x.lower()))\n",
        "\n",
        "# 確保移除所有在預處理函數中移除的其他列，包括時間列如果它們不再需要\n",
        "df_test = df_test.drop(columns=['Description', 'End_Lat', 'End_Lng' , 'Weather_Timestamp',  'Airport_Code'])\n",
        "\n",
        "# 使用之前訓練時儲存的 preprocessors 來轉換測試數據\n",
        "test = preprocessors.transform(df_test)\n",
        "\n"
      ],
      "metadata": {
        "id": "4UB72rN4pCj6"
      },
      "execution_count": null,
      "outputs": []
    },
    {
      "cell_type": "code",
      "source": [
        "df_train.info()"
      ],
      "metadata": {
        "colab": {
          "base_uri": "https://localhost:8080/"
        },
        "id": "XsAKwRpP0IUI",
        "outputId": "033544e7-6a16-4977-e839-971cc089da84"
      },
      "execution_count": null,
      "outputs": [
        {
          "output_type": "stream",
          "name": "stdout",
          "text": [
            "<class 'pandas.core.frame.DataFrame'>\n",
            "Index: 78329 entries, 0 to 84927\n",
            "Data columns (total 64 columns):\n",
            " #   Column                 Non-Null Count  Dtype  \n",
            "---  ------                 --------------  -----  \n",
            " 0   Source                 78329 non-null  object \n",
            " 1   Severity               78329 non-null  int64  \n",
            " 2   Start_Lat              78329 non-null  float64\n",
            " 3   Start_Lng              78329 non-null  float64\n",
            " 4   End_Lat                78329 non-null  float64\n",
            " 5   End_Lng                78329 non-null  float64\n",
            " 6   Distance(mi)           78329 non-null  float64\n",
            " 7   Description            78329 non-null  object \n",
            " 8   Street                 78329 non-null  object \n",
            " 9   City                   78329 non-null  object \n",
            " 10  County                 78329 non-null  object \n",
            " 11  State                  78329 non-null  object \n",
            " 12  Zipcode                78329 non-null  object \n",
            " 13  Country                78329 non-null  object \n",
            " 14  Timezone               78329 non-null  object \n",
            " 15  Airport_Code           78329 non-null  object \n",
            " 16  Weather_Timestamp      78329 non-null  object \n",
            " 17  Temperature(F)         78329 non-null  float64\n",
            " 18  Wind_Chill(F)          78329 non-null  float64\n",
            " 19  Humidity(%)            78329 non-null  float64\n",
            " 20  Pressure(in)           78329 non-null  float64\n",
            " 21  Visibility(mi)         78329 non-null  float64\n",
            " 22  Wind_Direction         78329 non-null  object \n",
            " 23  Wind_Speed(mph)        78329 non-null  float64\n",
            " 24  Precipitation(in)      78329 non-null  float64\n",
            " 25  Weather_Condition      78329 non-null  object \n",
            " 26  Amenity                78329 non-null  bool   \n",
            " 27  Bump                   78329 non-null  bool   \n",
            " 28  Crossing               78329 non-null  bool   \n",
            " 29  Give_Way               78329 non-null  bool   \n",
            " 30  Junction               78329 non-null  bool   \n",
            " 31  No_Exit                78329 non-null  bool   \n",
            " 32  Railway                78329 non-null  bool   \n",
            " 33  Roundabout             78329 non-null  bool   \n",
            " 34  Station                78329 non-null  bool   \n",
            " 35  Stop                   78329 non-null  bool   \n",
            " 36  Traffic_Calming        78329 non-null  bool   \n",
            " 37  Traffic_Signal         78329 non-null  bool   \n",
            " 38  Turning_Loop           78329 non-null  bool   \n",
            " 39  Sunrise_Sunset         78329 non-null  object \n",
            " 40  Civil_Twilight         78329 non-null  object \n",
            " 41  Nautical_Twilight      78329 non-null  object \n",
            " 42  Astronomical_Twilight  78329 non-null  object \n",
            " 43  Duration               78329 non-null  float64\n",
            " 44  closed                 78329 non-null  int64  \n",
            " 45  accident               78329 non-null  int64  \n",
            " 46  blocked                78329 non-null  int64  \n",
            " 47  stationary traffic     78329 non-null  int64  \n",
            " 48  crash                  78329 non-null  int64  \n",
            " 49  injuries               78329 non-null  int64  \n",
            " 50  overturned vehicle     78329 non-null  int64  \n",
            " 51  construction work      78329 non-null  int64  \n",
            " 52  delays                 78329 non-null  int64  \n",
            " 53  road closed            78329 non-null  int64  \n",
            " 54  alternate route        78329 non-null  int64  \n",
            " 55  caution                78329 non-null  int64  \n",
            " 56  lanes closed           78329 non-null  int64  \n",
            " 57  shoulder blocked       78329 non-null  int64  \n",
            " 58  lane blocked           78329 non-null  int64  \n",
            " 59  traffic problem        78329 non-null  int64  \n",
            " 60  serious accident       78329 non-null  int64  \n",
            " 61  investigation work     78329 non-null  int64  \n",
            " 62  danger                 78329 non-null  int64  \n",
            " 63  vehicle crash          78329 non-null  int64  \n",
            "dtypes: bool(13), float64(13), int64(21), object(17)\n",
            "memory usage: 32.0+ MB\n"
          ]
        }
      ]
    },
    {
      "cell_type": "code",
      "source": [
        "df_train.head()"
      ],
      "metadata": {
        "id": "rqfcwWVGvDTi"
      },
      "execution_count": null,
      "outputs": []
    },
    {
      "cell_type": "code",
      "execution_count": null,
      "metadata": {
        "id": "w_3oqhoMXS_C"
      },
      "outputs": [],
      "source": [
        "pred = model.predict(test)"
      ]
    },
    {
      "cell_type": "code",
      "source": [
        "pred.argmax(-1)"
      ],
      "metadata": {
        "id": "Ajc4xR6GYdEL"
      },
      "execution_count": null,
      "outputs": []
    },
    {
      "cell_type": "code",
      "execution_count": null,
      "metadata": {
        "id": "tSGClN39XS_E"
      },
      "outputs": [],
      "source": [
        "predic_class=np.argmax(pred,axis=1)\n",
        "predic_class=predic_class+1\n",
        "predic_class"
      ]
    },
    {
      "cell_type": "code",
      "execution_count": null,
      "metadata": {
        "id": "bZupbBGYXS_G"
      },
      "outputs": [],
      "source": [
        "df_test = pd.read_csv('Test.csv')\n",
        "ans = df_test[['ID']]"
      ]
    },
    {
      "cell_type": "code",
      "execution_count": null,
      "metadata": {
        "id": "Q0nvAv74XS_G"
      },
      "outputs": [],
      "source": [
        "ans"
      ]
    },
    {
      "cell_type": "code",
      "execution_count": null,
      "metadata": {
        "id": "rFexfSfzXS_H"
      },
      "outputs": [],
      "source": [
        "ans.loc[:, 'Severity'] = list(predic_class)"
      ]
    },
    {
      "cell_type": "code",
      "source": [
        "ans"
      ],
      "metadata": {
        "id": "mzTbiN0LAMQx"
      },
      "execution_count": null,
      "outputs": []
    },
    {
      "cell_type": "code",
      "execution_count": null,
      "metadata": {
        "id": "p_BX8GcSXS_I"
      },
      "outputs": [],
      "source": [
        "ans.to_csv('ans.csv', index=False)"
      ]
    },
    {
      "cell_type": "code",
      "source": [],
      "metadata": {
        "id": "6L1N3h1LY-ni"
      },
      "execution_count": null,
      "outputs": []
    }
  ],
  "metadata": {
    "colab": {
      "provenance": [],
      "gpuType": "T4"
    },
    "kernelspec": {
      "display_name": "Python 3",
      "name": "python3"
    },
    "language_info": {
      "codemirror_mode": {
        "name": "ipython",
        "version": 3
      },
      "file_extension": ".py",
      "mimetype": "text/x-python",
      "name": "python",
      "nbconvert_exporter": "python",
      "pygments_lexer": "ipython3",
      "version": "3.7.12"
    },
    "accelerator": "GPU"
  },
  "nbformat": 4,
  "nbformat_minor": 0
}